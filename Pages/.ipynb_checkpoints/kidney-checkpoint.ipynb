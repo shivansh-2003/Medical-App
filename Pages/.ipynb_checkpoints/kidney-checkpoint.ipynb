{
 "cells": [
  {
   "cell_type": "code",
   "execution_count": 2,
   "id": "a2da774f",
   "metadata": {},
   "outputs": [],
   "source": [
    "import pandas as pd\n",
    "import numpy as np\n",
    "import matplotlib.pyplot as plt\n",
    "import seaborn as sns\n",
    "import plotly.express as px\n",
    "\n",
    "import warnings    \n",
    "warnings.filterwarnings('ignore')"
   ]
  },
  {
   "cell_type": "code",
   "execution_count": 3,
   "id": "bb87c0b1",
   "metadata": {},
   "outputs": [
    {
     "data": {
      "text/html": [
       "<div>\n",
       "<style scoped>\n",
       "    .dataframe tbody tr th:only-of-type {\n",
       "        vertical-align: middle;\n",
       "    }\n",
       "\n",
       "    .dataframe tbody tr th {\n",
       "        vertical-align: top;\n",
       "    }\n",
       "\n",
       "    .dataframe thead th {\n",
       "        text-align: right;\n",
       "    }\n",
       "</style>\n",
       "<table border=\"1\" class=\"dataframe\">\n",
       "  <thead>\n",
       "    <tr style=\"text-align: right;\">\n",
       "      <th></th>\n",
       "      <th>id</th>\n",
       "      <th>age</th>\n",
       "      <th>bp</th>\n",
       "      <th>sg</th>\n",
       "      <th>al</th>\n",
       "      <th>su</th>\n",
       "      <th>rbc</th>\n",
       "      <th>pc</th>\n",
       "      <th>pcc</th>\n",
       "      <th>ba</th>\n",
       "      <th>...</th>\n",
       "      <th>pcv</th>\n",
       "      <th>wc</th>\n",
       "      <th>rc</th>\n",
       "      <th>htn</th>\n",
       "      <th>dm</th>\n",
       "      <th>cad</th>\n",
       "      <th>appet</th>\n",
       "      <th>pe</th>\n",
       "      <th>ane</th>\n",
       "      <th>classification</th>\n",
       "    </tr>\n",
       "  </thead>\n",
       "  <tbody>\n",
       "    <tr>\n",
       "      <th>0</th>\n",
       "      <td>0</td>\n",
       "      <td>48.0</td>\n",
       "      <td>80.0</td>\n",
       "      <td>1.020</td>\n",
       "      <td>1.0</td>\n",
       "      <td>0.0</td>\n",
       "      <td>NaN</td>\n",
       "      <td>normal</td>\n",
       "      <td>notpresent</td>\n",
       "      <td>notpresent</td>\n",
       "      <td>...</td>\n",
       "      <td>44</td>\n",
       "      <td>7800</td>\n",
       "      <td>5.2</td>\n",
       "      <td>yes</td>\n",
       "      <td>yes</td>\n",
       "      <td>no</td>\n",
       "      <td>good</td>\n",
       "      <td>no</td>\n",
       "      <td>no</td>\n",
       "      <td>ckd</td>\n",
       "    </tr>\n",
       "    <tr>\n",
       "      <th>1</th>\n",
       "      <td>1</td>\n",
       "      <td>7.0</td>\n",
       "      <td>50.0</td>\n",
       "      <td>1.020</td>\n",
       "      <td>4.0</td>\n",
       "      <td>0.0</td>\n",
       "      <td>NaN</td>\n",
       "      <td>normal</td>\n",
       "      <td>notpresent</td>\n",
       "      <td>notpresent</td>\n",
       "      <td>...</td>\n",
       "      <td>38</td>\n",
       "      <td>6000</td>\n",
       "      <td>NaN</td>\n",
       "      <td>no</td>\n",
       "      <td>no</td>\n",
       "      <td>no</td>\n",
       "      <td>good</td>\n",
       "      <td>no</td>\n",
       "      <td>no</td>\n",
       "      <td>ckd</td>\n",
       "    </tr>\n",
       "    <tr>\n",
       "      <th>2</th>\n",
       "      <td>2</td>\n",
       "      <td>62.0</td>\n",
       "      <td>80.0</td>\n",
       "      <td>1.010</td>\n",
       "      <td>2.0</td>\n",
       "      <td>3.0</td>\n",
       "      <td>normal</td>\n",
       "      <td>normal</td>\n",
       "      <td>notpresent</td>\n",
       "      <td>notpresent</td>\n",
       "      <td>...</td>\n",
       "      <td>31</td>\n",
       "      <td>7500</td>\n",
       "      <td>NaN</td>\n",
       "      <td>no</td>\n",
       "      <td>yes</td>\n",
       "      <td>no</td>\n",
       "      <td>poor</td>\n",
       "      <td>no</td>\n",
       "      <td>yes</td>\n",
       "      <td>ckd</td>\n",
       "    </tr>\n",
       "    <tr>\n",
       "      <th>3</th>\n",
       "      <td>3</td>\n",
       "      <td>48.0</td>\n",
       "      <td>70.0</td>\n",
       "      <td>1.005</td>\n",
       "      <td>4.0</td>\n",
       "      <td>0.0</td>\n",
       "      <td>normal</td>\n",
       "      <td>abnormal</td>\n",
       "      <td>present</td>\n",
       "      <td>notpresent</td>\n",
       "      <td>...</td>\n",
       "      <td>32</td>\n",
       "      <td>6700</td>\n",
       "      <td>3.9</td>\n",
       "      <td>yes</td>\n",
       "      <td>no</td>\n",
       "      <td>no</td>\n",
       "      <td>poor</td>\n",
       "      <td>yes</td>\n",
       "      <td>yes</td>\n",
       "      <td>ckd</td>\n",
       "    </tr>\n",
       "    <tr>\n",
       "      <th>4</th>\n",
       "      <td>4</td>\n",
       "      <td>51.0</td>\n",
       "      <td>80.0</td>\n",
       "      <td>1.010</td>\n",
       "      <td>2.0</td>\n",
       "      <td>0.0</td>\n",
       "      <td>normal</td>\n",
       "      <td>normal</td>\n",
       "      <td>notpresent</td>\n",
       "      <td>notpresent</td>\n",
       "      <td>...</td>\n",
       "      <td>35</td>\n",
       "      <td>7300</td>\n",
       "      <td>4.6</td>\n",
       "      <td>no</td>\n",
       "      <td>no</td>\n",
       "      <td>no</td>\n",
       "      <td>good</td>\n",
       "      <td>no</td>\n",
       "      <td>no</td>\n",
       "      <td>ckd</td>\n",
       "    </tr>\n",
       "  </tbody>\n",
       "</table>\n",
       "<p>5 rows × 26 columns</p>\n",
       "</div>"
      ],
      "text/plain": [
       "   id   age    bp     sg   al   su     rbc        pc         pcc          ba  \\\n",
       "0   0  48.0  80.0  1.020  1.0  0.0     NaN    normal  notpresent  notpresent   \n",
       "1   1   7.0  50.0  1.020  4.0  0.0     NaN    normal  notpresent  notpresent   \n",
       "2   2  62.0  80.0  1.010  2.0  3.0  normal    normal  notpresent  notpresent   \n",
       "3   3  48.0  70.0  1.005  4.0  0.0  normal  abnormal     present  notpresent   \n",
       "4   4  51.0  80.0  1.010  2.0  0.0  normal    normal  notpresent  notpresent   \n",
       "\n",
       "   ...  pcv    wc   rc  htn   dm  cad appet   pe  ane classification  \n",
       "0  ...   44  7800  5.2  yes  yes   no  good   no   no            ckd  \n",
       "1  ...   38  6000  NaN   no   no   no  good   no   no            ckd  \n",
       "2  ...   31  7500  NaN   no  yes   no  poor   no  yes            ckd  \n",
       "3  ...   32  6700  3.9  yes   no   no  poor  yes  yes            ckd  \n",
       "4  ...   35  7300  4.6   no   no   no  good   no   no            ckd  \n",
       "\n",
       "[5 rows x 26 columns]"
      ]
     },
     "execution_count": 3,
     "metadata": {},
     "output_type": "execute_result"
    }
   ],
   "source": [
    "df= pd.read_csv('/Users/shivanshmahajan/Desktop/Kidney/kidney_disease.csv')\n",
    "df.head()"
   ]
  },
  {
   "cell_type": "code",
   "execution_count": 4,
   "id": "d26d8bf2",
   "metadata": {},
   "outputs": [],
   "source": [
    "df.drop('id', axis = 1, inplace = True)"
   ]
  },
  {
   "cell_type": "code",
   "execution_count": 5,
   "id": "d7cdc48a",
   "metadata": {},
   "outputs": [
    {
     "name": "stdout",
     "output_type": "stream",
     "text": [
      "<class 'pandas.core.frame.DataFrame'>\n",
      "RangeIndex: 400 entries, 0 to 399\n",
      "Data columns (total 25 columns):\n",
      " #   Column          Non-Null Count  Dtype  \n",
      "---  ------          --------------  -----  \n",
      " 0   age             391 non-null    float64\n",
      " 1   bp              388 non-null    float64\n",
      " 2   sg              353 non-null    float64\n",
      " 3   al              354 non-null    float64\n",
      " 4   su              351 non-null    float64\n",
      " 5   rbc             248 non-null    object \n",
      " 6   pc              335 non-null    object \n",
      " 7   pcc             396 non-null    object \n",
      " 8   ba              396 non-null    object \n",
      " 9   bgr             356 non-null    float64\n",
      " 10  bu              381 non-null    float64\n",
      " 11  sc              383 non-null    float64\n",
      " 12  sod             313 non-null    float64\n",
      " 13  pot             312 non-null    float64\n",
      " 14  hemo            348 non-null    float64\n",
      " 15  pcv             330 non-null    object \n",
      " 16  wc              295 non-null    object \n",
      " 17  rc              270 non-null    object \n",
      " 18  htn             398 non-null    object \n",
      " 19  dm              398 non-null    object \n",
      " 20  cad             398 non-null    object \n",
      " 21  appet           399 non-null    object \n",
      " 22  pe              399 non-null    object \n",
      " 23  ane             399 non-null    object \n",
      " 24  classification  400 non-null    object \n",
      "dtypes: float64(11), object(14)\n",
      "memory usage: 78.3+ KB\n"
     ]
    }
   ],
   "source": [
    "df.info()"
   ]
  },
  {
   "cell_type": "code",
   "execution_count": 6,
   "id": "3fd7c458",
   "metadata": {},
   "outputs": [],
   "source": [
    "df.columns = ['age', 'blood_pressure', 'specific_gravity', 'albumin', 'sugar', 'red_blood_cells', 'pus_cell',\n",
    "              'pus_cell_clumps', 'bacteria', 'blood_glucose_random', 'blood_urea', 'serum_creatinine', 'sodium',\n",
    "              'potassium', 'haemoglobin', 'packed_cell_volume', 'white_blood_cell_count', 'red_blood_cell_count',\n",
    "              'hypertension', 'diabetes_mellitus', 'coronary_artery_disease', 'appetite', 'peda_edema',\n",
    "              'aanemia', 'class']"
   ]
  },
  {
   "cell_type": "code",
   "execution_count": 7,
   "id": "10688678",
   "metadata": {},
   "outputs": [
    {
     "name": "stdout",
     "output_type": "stream",
     "text": [
      "<class 'pandas.core.frame.DataFrame'>\n",
      "RangeIndex: 400 entries, 0 to 399\n",
      "Data columns (total 25 columns):\n",
      " #   Column                   Non-Null Count  Dtype  \n",
      "---  ------                   --------------  -----  \n",
      " 0   age                      391 non-null    float64\n",
      " 1   blood_pressure           388 non-null    float64\n",
      " 2   specific_gravity         353 non-null    float64\n",
      " 3   albumin                  354 non-null    float64\n",
      " 4   sugar                    351 non-null    float64\n",
      " 5   red_blood_cells          248 non-null    object \n",
      " 6   pus_cell                 335 non-null    object \n",
      " 7   pus_cell_clumps          396 non-null    object \n",
      " 8   bacteria                 396 non-null    object \n",
      " 9   blood_glucose_random     356 non-null    float64\n",
      " 10  blood_urea               381 non-null    float64\n",
      " 11  serum_creatinine         383 non-null    float64\n",
      " 12  sodium                   313 non-null    float64\n",
      " 13  potassium                312 non-null    float64\n",
      " 14  haemoglobin              348 non-null    float64\n",
      " 15  packed_cell_volume       330 non-null    object \n",
      " 16  white_blood_cell_count   295 non-null    object \n",
      " 17  red_blood_cell_count     270 non-null    object \n",
      " 18  hypertension             398 non-null    object \n",
      " 19  diabetes_mellitus        398 non-null    object \n",
      " 20  coronary_artery_disease  398 non-null    object \n",
      " 21  appetite                 399 non-null    object \n",
      " 22  peda_edema               399 non-null    object \n",
      " 23  aanemia                  399 non-null    object \n",
      " 24  class                    400 non-null    object \n",
      "dtypes: float64(11), object(14)\n",
      "memory usage: 78.3+ KB\n"
     ]
    }
   ],
   "source": [
    "df.info()"
   ]
  },
  {
   "cell_type": "code",
   "execution_count": 8,
   "id": "4b2160c8",
   "metadata": {},
   "outputs": [],
   "source": [
    "df['packed_cell_volume'] = pd.to_numeric(df['packed_cell_volume'], errors='coerce')\n",
    "df['white_blood_cell_count'] = pd.to_numeric(df['white_blood_cell_count'], errors='coerce')\n",
    "df['red_blood_cell_count'] = pd.to_numeric(df['red_blood_cell_count'], errors='coerce')"
   ]
  },
  {
   "cell_type": "code",
   "execution_count": 9,
   "id": "deb3f48f",
   "metadata": {},
   "outputs": [],
   "source": [
    "cat_cols = [col for col in df.columns if df[col].dtype == 'object']\n",
    "num_cols = [col for col in df.columns if df[col].dtype != 'object']"
   ]
  },
  {
   "cell_type": "code",
   "execution_count": 10,
   "id": "409db237",
   "metadata": {},
   "outputs": [],
   "source": [
    "df['diabetes_mellitus'].replace(to_replace = {'\\tno':'no','\\tyes':'yes',' yes':'yes'},inplace=True)\n",
    "\n",
    "df['coronary_artery_disease'] = df['coronary_artery_disease'].replace(to_replace = '\\tno', value='no')\n",
    "\n",
    "df['class'] = df['class'].replace(to_replace = {'ckd\\t': 'ckd', 'notckd': 'not ckd'})"
   ]
  },
  {
   "cell_type": "code",
   "execution_count": 11,
   "id": "56030c97",
   "metadata": {},
   "outputs": [],
   "source": [
    "df['class'] = df['class'].map({'ckd': 0, 'not ckd': 1})\n",
    "df['class'] = pd.to_numeric(df['class'], errors='coerce')"
   ]
  },
  {
   "cell_type": "code",
   "execution_count": 12,
   "id": "dac058af",
   "metadata": {},
   "outputs": [
    {
     "data": {
      "text/plain": [
       "red_blood_cells            152\n",
       "red_blood_cell_count       131\n",
       "white_blood_cell_count     106\n",
       "potassium                   88\n",
       "sodium                      87\n",
       "packed_cell_volume          71\n",
       "pus_cell                    65\n",
       "haemoglobin                 52\n",
       "sugar                       49\n",
       "specific_gravity            47\n",
       "albumin                     46\n",
       "blood_glucose_random        44\n",
       "blood_urea                  19\n",
       "serum_creatinine            17\n",
       "blood_pressure              12\n",
       "age                          9\n",
       "bacteria                     4\n",
       "pus_cell_clumps              4\n",
       "hypertension                 2\n",
       "diabetes_mellitus            2\n",
       "coronary_artery_disease      2\n",
       "appetite                     1\n",
       "peda_edema                   1\n",
       "aanemia                      1\n",
       "class                        0\n",
       "dtype: int64"
      ]
     },
     "execution_count": 12,
     "metadata": {},
     "output_type": "execute_result"
    }
   ],
   "source": [
    "df.isna().sum().sort_values(ascending = False)"
   ]
  },
  {
   "cell_type": "code",
   "execution_count": 13,
   "id": "59c34663",
   "metadata": {},
   "outputs": [
    {
     "data": {
      "text/plain": [
       "age                         9\n",
       "blood_pressure             12\n",
       "specific_gravity           47\n",
       "albumin                    46\n",
       "sugar                      49\n",
       "blood_glucose_random       44\n",
       "blood_urea                 19\n",
       "serum_creatinine           17\n",
       "sodium                     87\n",
       "potassium                  88\n",
       "haemoglobin                52\n",
       "packed_cell_volume         71\n",
       "white_blood_cell_count    106\n",
       "red_blood_cell_count      131\n",
       "dtype: int64"
      ]
     },
     "execution_count": 13,
     "metadata": {},
     "output_type": "execute_result"
    }
   ],
   "source": [
    "df[num_cols].isnull().sum()"
   ]
  },
  {
   "cell_type": "code",
   "execution_count": 14,
   "id": "531cc658",
   "metadata": {},
   "outputs": [],
   "source": [
    "def random_value_imputation(feature):\n",
    "    random_sample = df[feature].dropna().sample(df[feature].isna().sum())\n",
    "    random_sample.index = df[df[feature].isnull()].index\n",
    "    df.loc[df[feature].isnull(), feature] = random_sample\n",
    "    \n",
    "def impute_mode(feature):\n",
    "    mode = df[feature].mode()[0]\n",
    "    df[feature] = df[feature].fillna(mode)"
   ]
  },
  {
   "cell_type": "code",
   "execution_count": 15,
   "id": "45d208a3",
   "metadata": {},
   "outputs": [],
   "source": [
    "for col in num_cols:\n",
    "    random_value_imputation(col)"
   ]
  },
  {
   "cell_type": "code",
   "execution_count": 16,
   "id": "218e4c84",
   "metadata": {},
   "outputs": [
    {
     "data": {
      "text/plain": [
       "age                       0\n",
       "blood_pressure            0\n",
       "specific_gravity          0\n",
       "albumin                   0\n",
       "sugar                     0\n",
       "blood_glucose_random      0\n",
       "blood_urea                0\n",
       "serum_creatinine          0\n",
       "sodium                    0\n",
       "potassium                 0\n",
       "haemoglobin               0\n",
       "packed_cell_volume        0\n",
       "white_blood_cell_count    0\n",
       "red_blood_cell_count      0\n",
       "dtype: int64"
      ]
     },
     "execution_count": 16,
     "metadata": {},
     "output_type": "execute_result"
    }
   ],
   "source": [
    "df[num_cols].isnull().sum()"
   ]
  },
  {
   "cell_type": "code",
   "execution_count": 17,
   "id": "cb8e42e5",
   "metadata": {},
   "outputs": [],
   "source": [
    "random_value_imputation('red_blood_cells')\n",
    "random_value_imputation('pus_cell')\n",
    "\n",
    "for col in cat_cols:\n",
    "    impute_mode(col)"
   ]
  },
  {
   "cell_type": "code",
   "execution_count": 18,
   "id": "84f9343b",
   "metadata": {},
   "outputs": [
    {
     "data": {
      "text/plain": [
       "red_blood_cells            0\n",
       "pus_cell                   0\n",
       "pus_cell_clumps            0\n",
       "bacteria                   0\n",
       "hypertension               0\n",
       "diabetes_mellitus          0\n",
       "coronary_artery_disease    0\n",
       "appetite                   0\n",
       "peda_edema                 0\n",
       "aanemia                    0\n",
       "class                      0\n",
       "dtype: int64"
      ]
     },
     "execution_count": 18,
     "metadata": {},
     "output_type": "execute_result"
    }
   ],
   "source": [
    "df[cat_cols].isnull().sum()"
   ]
  },
  {
   "cell_type": "code",
   "execution_count": 19,
   "id": "73a80fc5",
   "metadata": {},
   "outputs": [],
   "source": [
    "from sklearn.preprocessing import LabelEncoder\n",
    "\n",
    "le = LabelEncoder()\n",
    "\n",
    "for col in cat_cols:\n",
    "    df[col] = le.fit_transform(df[col])"
   ]
  },
  {
   "cell_type": "code",
   "execution_count": 20,
   "id": "8ceb3109",
   "metadata": {},
   "outputs": [],
   "source": [
    "ind_col = [col for col in df.columns if col != 'class']\n",
    "dep_col = 'class'\n",
    "\n",
    "X = df[ind_col]\n",
    "y = df[dep_col]"
   ]
  },
  {
   "cell_type": "code",
   "execution_count": 21,
   "id": "754c42c4",
   "metadata": {},
   "outputs": [
    {
     "data": {
      "text/html": [
       "<div>\n",
       "<style scoped>\n",
       "    .dataframe tbody tr th:only-of-type {\n",
       "        vertical-align: middle;\n",
       "    }\n",
       "\n",
       "    .dataframe tbody tr th {\n",
       "        vertical-align: top;\n",
       "    }\n",
       "\n",
       "    .dataframe thead th {\n",
       "        text-align: right;\n",
       "    }\n",
       "</style>\n",
       "<table border=\"1\" class=\"dataframe\">\n",
       "  <thead>\n",
       "    <tr style=\"text-align: right;\">\n",
       "      <th></th>\n",
       "      <th>age</th>\n",
       "      <th>blood_pressure</th>\n",
       "      <th>specific_gravity</th>\n",
       "      <th>albumin</th>\n",
       "      <th>sugar</th>\n",
       "      <th>red_blood_cells</th>\n",
       "      <th>pus_cell</th>\n",
       "      <th>pus_cell_clumps</th>\n",
       "      <th>bacteria</th>\n",
       "      <th>blood_glucose_random</th>\n",
       "      <th>...</th>\n",
       "      <th>packed_cell_volume</th>\n",
       "      <th>white_blood_cell_count</th>\n",
       "      <th>red_blood_cell_count</th>\n",
       "      <th>hypertension</th>\n",
       "      <th>diabetes_mellitus</th>\n",
       "      <th>coronary_artery_disease</th>\n",
       "      <th>appetite</th>\n",
       "      <th>peda_edema</th>\n",
       "      <th>aanemia</th>\n",
       "      <th>class</th>\n",
       "    </tr>\n",
       "  </thead>\n",
       "  <tbody>\n",
       "    <tr>\n",
       "      <th>0</th>\n",
       "      <td>48.0</td>\n",
       "      <td>80.0</td>\n",
       "      <td>1.020</td>\n",
       "      <td>1.0</td>\n",
       "      <td>0.0</td>\n",
       "      <td>1</td>\n",
       "      <td>1</td>\n",
       "      <td>0</td>\n",
       "      <td>0</td>\n",
       "      <td>121.0</td>\n",
       "      <td>...</td>\n",
       "      <td>44.0</td>\n",
       "      <td>7800.0</td>\n",
       "      <td>5.2</td>\n",
       "      <td>1</td>\n",
       "      <td>1</td>\n",
       "      <td>0</td>\n",
       "      <td>0</td>\n",
       "      <td>0</td>\n",
       "      <td>0</td>\n",
       "      <td>0</td>\n",
       "    </tr>\n",
       "    <tr>\n",
       "      <th>1</th>\n",
       "      <td>7.0</td>\n",
       "      <td>50.0</td>\n",
       "      <td>1.020</td>\n",
       "      <td>4.0</td>\n",
       "      <td>0.0</td>\n",
       "      <td>0</td>\n",
       "      <td>1</td>\n",
       "      <td>0</td>\n",
       "      <td>0</td>\n",
       "      <td>114.0</td>\n",
       "      <td>...</td>\n",
       "      <td>38.0</td>\n",
       "      <td>6000.0</td>\n",
       "      <td>5.8</td>\n",
       "      <td>0</td>\n",
       "      <td>0</td>\n",
       "      <td>0</td>\n",
       "      <td>0</td>\n",
       "      <td>0</td>\n",
       "      <td>0</td>\n",
       "      <td>0</td>\n",
       "    </tr>\n",
       "    <tr>\n",
       "      <th>2</th>\n",
       "      <td>62.0</td>\n",
       "      <td>80.0</td>\n",
       "      <td>1.010</td>\n",
       "      <td>2.0</td>\n",
       "      <td>3.0</td>\n",
       "      <td>1</td>\n",
       "      <td>1</td>\n",
       "      <td>0</td>\n",
       "      <td>0</td>\n",
       "      <td>423.0</td>\n",
       "      <td>...</td>\n",
       "      <td>31.0</td>\n",
       "      <td>7500.0</td>\n",
       "      <td>6.1</td>\n",
       "      <td>0</td>\n",
       "      <td>1</td>\n",
       "      <td>0</td>\n",
       "      <td>1</td>\n",
       "      <td>0</td>\n",
       "      <td>1</td>\n",
       "      <td>0</td>\n",
       "    </tr>\n",
       "    <tr>\n",
       "      <th>3</th>\n",
       "      <td>48.0</td>\n",
       "      <td>70.0</td>\n",
       "      <td>1.005</td>\n",
       "      <td>4.0</td>\n",
       "      <td>0.0</td>\n",
       "      <td>1</td>\n",
       "      <td>0</td>\n",
       "      <td>1</td>\n",
       "      <td>0</td>\n",
       "      <td>117.0</td>\n",
       "      <td>...</td>\n",
       "      <td>32.0</td>\n",
       "      <td>6700.0</td>\n",
       "      <td>3.9</td>\n",
       "      <td>1</td>\n",
       "      <td>0</td>\n",
       "      <td>0</td>\n",
       "      <td>1</td>\n",
       "      <td>1</td>\n",
       "      <td>1</td>\n",
       "      <td>0</td>\n",
       "    </tr>\n",
       "    <tr>\n",
       "      <th>4</th>\n",
       "      <td>51.0</td>\n",
       "      <td>80.0</td>\n",
       "      <td>1.010</td>\n",
       "      <td>2.0</td>\n",
       "      <td>0.0</td>\n",
       "      <td>1</td>\n",
       "      <td>1</td>\n",
       "      <td>0</td>\n",
       "      <td>0</td>\n",
       "      <td>106.0</td>\n",
       "      <td>...</td>\n",
       "      <td>35.0</td>\n",
       "      <td>7300.0</td>\n",
       "      <td>4.6</td>\n",
       "      <td>0</td>\n",
       "      <td>0</td>\n",
       "      <td>0</td>\n",
       "      <td>0</td>\n",
       "      <td>0</td>\n",
       "      <td>0</td>\n",
       "      <td>0</td>\n",
       "    </tr>\n",
       "  </tbody>\n",
       "</table>\n",
       "<p>5 rows × 25 columns</p>\n",
       "</div>"
      ],
      "text/plain": [
       "    age  blood_pressure  specific_gravity  albumin  sugar  red_blood_cells  \\\n",
       "0  48.0            80.0             1.020      1.0    0.0                1   \n",
       "1   7.0            50.0             1.020      4.0    0.0                0   \n",
       "2  62.0            80.0             1.010      2.0    3.0                1   \n",
       "3  48.0            70.0             1.005      4.0    0.0                1   \n",
       "4  51.0            80.0             1.010      2.0    0.0                1   \n",
       "\n",
       "   pus_cell  pus_cell_clumps  bacteria  blood_glucose_random  ...  \\\n",
       "0         1                0         0                 121.0  ...   \n",
       "1         1                0         0                 114.0  ...   \n",
       "2         1                0         0                 423.0  ...   \n",
       "3         0                1         0                 117.0  ...   \n",
       "4         1                0         0                 106.0  ...   \n",
       "\n",
       "   packed_cell_volume  white_blood_cell_count  red_blood_cell_count  \\\n",
       "0                44.0                  7800.0                   5.2   \n",
       "1                38.0                  6000.0                   5.8   \n",
       "2                31.0                  7500.0                   6.1   \n",
       "3                32.0                  6700.0                   3.9   \n",
       "4                35.0                  7300.0                   4.6   \n",
       "\n",
       "   hypertension  diabetes_mellitus  coronary_artery_disease  appetite  \\\n",
       "0             1                  1                        0         0   \n",
       "1             0                  0                        0         0   \n",
       "2             0                  1                        0         1   \n",
       "3             1                  0                        0         1   \n",
       "4             0                  0                        0         0   \n",
       "\n",
       "   peda_edema  aanemia  class  \n",
       "0           0        0      0  \n",
       "1           0        0      0  \n",
       "2           0        1      0  \n",
       "3           1        1      0  \n",
       "4           0        0      0  \n",
       "\n",
       "[5 rows x 25 columns]"
      ]
     },
     "execution_count": 21,
     "metadata": {},
     "output_type": "execute_result"
    }
   ],
   "source": [
    "df.head()"
   ]
  },
  {
   "cell_type": "code",
   "execution_count": 22,
   "id": "6f4c1602",
   "metadata": {},
   "outputs": [],
   "source": [
    "from sklearn.metrics import accuracy_score, confusion_matrix, classification_report\n",
    "from sklearn.model_selection import train_test_split\n",
    "\n",
    "X_train, X_test, y_train, y_test = train_test_split(X, y, test_size = 0.30, random_state = 0)"
   ]
  },
  {
   "cell_type": "code",
   "execution_count": 23,
   "id": "ce2f21d5",
   "metadata": {},
   "outputs": [
    {
     "name": "stdout",
     "output_type": "stream",
     "text": [
      "      age  blood_pressure  specific_gravity  albumin  sugar  red_blood_cells  \\\n",
      "132  50.0            80.0             1.025      2.0    0.0                1   \n",
      "\n",
      "     pus_cell  pus_cell_clumps  bacteria  blood_glucose_random  ...  \\\n",
      "132         1                0         0                 219.0  ...   \n",
      "\n",
      "     haemoglobin  packed_cell_volume  white_blood_cell_count  \\\n",
      "132          8.6                24.0                 13200.0   \n",
      "\n",
      "     red_blood_cell_count  hypertension  diabetes_mellitus  \\\n",
      "132                   2.7             1                  0   \n",
      "\n",
      "     coronary_artery_disease  appetite  peda_edema  aanemia  \n",
      "132                        0         0           1        1  \n",
      "\n",
      "[1 rows x 24 columns]\n"
     ]
    }
   ],
   "source": [
    "print(X_test.head(1))"
   ]
  },
  {
   "cell_type": "code",
   "execution_count": 24,
   "id": "9871d0db",
   "metadata": {},
   "outputs": [
    {
     "data": {
      "text/plain": [
       "132    0\n",
       "309    1\n",
       "341    1\n",
       "196    0\n",
       "246    0\n",
       "      ..\n",
       "216    0\n",
       "259    1\n",
       "49     0\n",
       "238    0\n",
       "343    1\n",
       "Name: class, Length: 120, dtype: int64"
      ]
     },
     "execution_count": 24,
     "metadata": {},
     "output_type": "execute_result"
    }
   ],
   "source": [
    "y_test"
   ]
  },
  {
   "cell_type": "code",
   "execution_count": 25,
   "id": "ff92086d",
   "metadata": {},
   "outputs": [
    {
     "name": "stdout",
     "output_type": "stream",
     "text": [
      "Training Accuracy of XgBoost is 1.0\n",
      "Test Accuracy of XgBoost is 0.9833333333333333 \n",
      "\n",
      "Confusion Matrix :- \n",
      "[[72  0]\n",
      " [ 2 46]]\n",
      "\n",
      "Classification Report :- \n",
      "               precision    recall  f1-score   support\n",
      "\n",
      "           0       0.97      1.00      0.99        72\n",
      "           1       1.00      0.96      0.98        48\n",
      "\n",
      "    accuracy                           0.98       120\n",
      "   macro avg       0.99      0.98      0.98       120\n",
      "weighted avg       0.98      0.98      0.98       120\n",
      "\n"
     ]
    }
   ],
   "source": [
    "from xgboost import XGBClassifier\n",
    "\n",
    "xgb = XGBClassifier(objective = 'binary:logistic', learning_rate = 0.5, max_depth = 5, n_estimators = 150)\n",
    "xgb.fit(X_train, y_train)\n",
    "\n",
    "# accuracy score, confusion matrix and classification report of xgboost\n",
    "\n",
    "xgb_acc = accuracy_score(y_test, xgb.predict(X_test))\n",
    "\n",
    "print(f\"Training Accuracy of XgBoost is {accuracy_score(y_train, xgb.predict(X_train))}\")\n",
    "print(f\"Test Accuracy of XgBoost is {xgb_acc} \\n\")\n",
    "\n",
    "print(f\"Confusion Matrix :- \\n{confusion_matrix(y_test, xgb.predict(X_test))}\\n\")\n",
    "print(f\"Classification Report :- \\n {classification_report(y_test, xgb.predict(X_test))}\")"
   ]
  },
  {
   "cell_type": "code",
   "execution_count": 26,
   "id": "8fb6cf6f",
   "metadata": {},
   "outputs": [
    {
     "name": "stdout",
     "output_type": "stream",
     "text": [
      "<class 'pandas.core.frame.DataFrame'>\n",
      "Index: 280 entries, 92 to 172\n",
      "Data columns (total 24 columns):\n",
      " #   Column                   Non-Null Count  Dtype  \n",
      "---  ------                   --------------  -----  \n",
      " 0   age                      280 non-null    float64\n",
      " 1   blood_pressure           280 non-null    float64\n",
      " 2   specific_gravity         280 non-null    float64\n",
      " 3   albumin                  280 non-null    float64\n",
      " 4   sugar                    280 non-null    float64\n",
      " 5   red_blood_cells          280 non-null    int64  \n",
      " 6   pus_cell                 280 non-null    int64  \n",
      " 7   pus_cell_clumps          280 non-null    int64  \n",
      " 8   bacteria                 280 non-null    int64  \n",
      " 9   blood_glucose_random     280 non-null    float64\n",
      " 10  blood_urea               280 non-null    float64\n",
      " 11  serum_creatinine         280 non-null    float64\n",
      " 12  sodium                   280 non-null    float64\n",
      " 13  potassium                280 non-null    float64\n",
      " 14  haemoglobin              280 non-null    float64\n",
      " 15  packed_cell_volume       280 non-null    float64\n",
      " 16  white_blood_cell_count   280 non-null    float64\n",
      " 17  red_blood_cell_count     280 non-null    float64\n",
      " 18  hypertension             280 non-null    int64  \n",
      " 19  diabetes_mellitus        280 non-null    int64  \n",
      " 20  coronary_artery_disease  280 non-null    int64  \n",
      " 21  appetite                 280 non-null    int64  \n",
      " 22  peda_edema               280 non-null    int64  \n",
      " 23  aanemia                  280 non-null    int64  \n",
      "dtypes: float64(14), int64(10)\n",
      "memory usage: 54.7 KB\n"
     ]
    }
   ],
   "source": [
    "X_train.info()"
   ]
  },
  {
   "cell_type": "code",
   "execution_count": 27,
   "id": "a924169c",
   "metadata": {},
   "outputs": [
    {
     "data": {
      "text/plain": [
       "',age,blood_pressure,specific_gravity,albumin,sugar,red_blood_cells,pus_cell,pus_cell_clumps,bacteria,blood_glucose_random,blood_urea,serum_creatinine,sodium,potassium,haemoglobin,packed_cell_volume,white_blood_cell_count,red_blood_cell_count,hypertension,diabetes_mellitus,coronary_artery_disease,appetite,peda_edema,aanemia\\n132,50.0,80.0,1.025,2.0,0.0,1,1,0,0,219.0,176.0,13.8,136.0,4.5,8.6,24.0,13200.0,2.7,1,0,0,0,1,1\\n309,51.0,60.0,1.02,0.0,0.0,1,0,0,0,129.0,25.0,1.2,139.0,5.0,17.2,40.0,8100.0,5.9,0,0,0,0,0,0\\n341,63.0,70.0,1.025,0.0,0.0,1,1,0,0,130.0,37.0,0.9,150.0,5.0,13.4,41.0,7300.0,4.7,0,0,0,0,0,0\\n196,49.0,100.0,1.01,3.0,0.0,0,0,0,0,129.0,158.0,11.8,122.0,3.2,8.1,24.0,9600.0,3.5,1,1,0,1,1,1\\n246,48.0,110.0,1.015,3.0,0.0,0,1,1,0,106.0,215.0,15.2,120.0,5.7,8.6,26.0,5000.0,2.5,1,0,1,0,0,1\\n60,67.0,90.0,1.02,1.0,0.0,1,0,1,0,141.0,66.0,3.2,138.0,6.6,13.7,38.0,9200.0,5.4,1,0,0,0,0,0\\n155,50.0,70.0,1.02,3.0,0.0,0,1,1,1,123.0,40.0,1.8,139.0,4.0,11.1,36.0,4700.0,4.5,0,0,0,0,0,0\\n261,49.0,80.0,1.02,0.0,0.0,1,1,0,0,122.0,32.0,1.2,139.0,3.9,17.0,41.0,5600.0,4.9,0,0,0,0,0,0\\n141,67.0,70.0,1.01,1.0,0.0,1,1,0,0,123.0,106.0,6.0,137.0,4.9,6.1,19.0,6500.0,4.9,1,0,0,0,0,1\\n214,68.0,80.0,1.015,0.0,0.0,1,0,0,0,171.0,30.0,1.0,150.0,6.3,13.7,43.0,4900.0,5.2,0,1,0,0,0,0\\n37,72.0,80.0,1.015,0.0,0.0,1,1,0,0,137.0,65.0,3.4,141.0,4.7,9.7,28.0,6900.0,2.5,1,1,0,1,0,1\\n134,47.0,100.0,1.01,3.0,0.0,1,1,0,0,122.0,52.0,16.9,138.0,5.2,10.8,33.0,10200.0,3.8,0,1,0,0,0,0\\n113,61.0,90.0,1.015,0.0,2.0,0,1,0,0,99.0,77.0,2.8,135.0,4.7,11.4,43.0,9800.0,6.0,0,1,0,1,0,1\\n348,38.0,80.0,1.02,0.0,0.0,1,1,0,0,99.0,19.0,0.5,147.0,3.5,13.6,44.0,7300.0,6.4,0,0,0,0,0,0\\n12,68.0,70.0,1.015,3.0,1.0,0,1,1,0,208.0,72.0,2.1,138.0,5.8,9.7,28.0,12200.0,3.4,1,1,1,1,1,0\\n59,59.0,100.0,1.02,2.0,2.0,1,1,0,0,98.0,96.0,6.4,147.0,4.4,6.6,52.0,5700.0,3.7,1,1,0,0,0,1\\n293,50.0,70.0,1.02,0.0,0.0,1,1,0,0,92.0,19.0,1.2,150.0,4.8,14.9,48.0,4700.0,5.4,0,0,0,0,0,0\\n140,69.0,70.0,1.01,0.0,4.0,1,1,0,0,256.0,40.0,1.2,142.0,5.6,16.2,40.0,10700.0,5.4,0,0,0,0,0,0\\n206,60.0,70.0,1.01,1.0,0.0,0,1,0,0,109.0,96.0,3.9,135.0,4.0,13.8,41.0,7500.0,5.2,1,0,0,0,0,0\\n199,65.0,80.0,1.015,0.0,0.0,1,1,0,0,92.0,37.0,1.5,140.0,5.2,8.8,25.0,10700.0,3.2,1,0,1,0,1,0\\n176,21.0,90.0,1.01,4.0,0.0,1,0,1,1,107.0,40.0,1.7,125.0,3.5,8.3,23.0,12400.0,3.9,0,0,0,0,0,1\\n268,45.0,80.0,1.015,0.0,1.0,1,1,0,0,100.0,49.0,1.0,140.0,5.0,16.3,53.0,8500.0,4.9,0,0,0,0,0,0\\n124,65.0,100.0,1.015,0.0,0.0,1,1,0,0,90.0,98.0,2.5,122.0,3.5,9.1,28.0,5500.0,3.6,1,0,0,0,0,0\\n344,64.0,60.0,1.02,0.0,0.0,1,1,0,0,106.0,27.0,0.7,150.0,3.3,14.4,42.0,8100.0,4.7,0,0,0,0,0,0\\n175,60.0,50.0,1.01,0.0,0.0,1,1,0,0,261.0,58.0,2.2,113.0,3.0,15.0,50.0,4200.0,3.4,1,0,0,0,0,0\\n313,55.0,80.0,1.02,0.0,0.0,1,1,0,0,104.0,28.0,0.9,142.0,4.8,17.3,52.0,8200.0,4.8,0,0,0,0,0,0\\n78,70.0,80.0,1.015,2.0,3.0,1,1,0,0,158.0,85.0,3.2,141.0,3.5,10.1,30.0,10700.0,4.9,1,0,0,0,1,0\\n15,40.0,80.0,1.015,3.0,0.0,0,1,0,0,76.0,162.0,9.6,141.0,4.9,7.6,24.0,3800.0,2.8,1,0,0,0,0,1\\n286,71.0,70.0,1.02,0.0,0.0,1,1,0,0,81.0,18.0,0.8,145.0,5.0,14.7,44.0,9800.0,6.0,0,0,0,0,0,0\\n102,17.0,60.0,1.01,0.0,0.0,0,1,0,0,92.0,32.0,2.1,141.0,4.2,13.9,52.0,7000.0,5.3,0,0,0,0,0,0\\n170,66.0,70.0,1.015,2.0,5.0,1,1,0,0,447.0,41.0,1.7,131.0,3.9,12.5,33.0,9600.0,4.4,1,1,0,0,0,0\\n303,55.0,70.0,1.02,0.0,0.0,1,1,0,0,107.0,26.0,1.1,140.0,4.3,17.0,50.0,6700.0,6.1,0,0,0,0,0,0\\n334,24.0,80.0,1.025,0.0,0.0,1,1,0,0,125.0,163.0,1.0,136.0,3.5,15.4,43.0,5600.0,4.5,0,0,0,0,0,0\\n225,60.0,90.0,1.01,3.0,5.0,0,1,0,1,490.0,95.0,2.7,131.0,3.8,11.5,35.0,12000.0,4.5,1,1,0,0,0,0\\n65,44.0,90.0,1.01,1.0,0.0,0,1,0,0,93.0,20.0,1.1,137.0,4.9,15.0,48.0,9400.0,4.4,0,0,0,0,0,0\\n76,48.0,80.0,1.005,4.0,0.0,0,0,0,1,133.0,139.0,8.5,132.0,5.5,10.3,36.0,6200.0,4.0,0,1,0,0,1,0\\n90,63.0,100.0,1.01,2.0,2.0,1,1,0,1,280.0,35.0,3.2,143.0,3.5,13.0,40.0,9800.0,4.2,1,0,1,0,0,0\\n173,17.0,70.0,1.015,1.0,0.0,0,1,0,0,22.0,1.5,7.3,145.0,2.8,13.1,41.0,11200.0,4.7,0,0,0,0,0,0\\n179,72.0,90.0,1.01,2.0,0.0,1,0,1,0,124.0,53.0,2.3,137.0,4.0,11.9,39.0,9200.0,3.6,0,0,0,0,0,0\\n399,58.0,80.0,1.025,0.0,0.0,1,1,0,0,131.0,18.0,1.1,141.0,3.5,15.8,53.0,6800.0,6.1,0,0,0,0,0,0\\n100,34.0,70.0,1.015,4.0,0.0,0,0,0,0,153.0,22.0,0.9,133.0,3.8,9.8,37.0,6900.0,4.2,0,0,0,0,1,0\\n322,70.0,60.0,1.02,0.0,0.0,0,1,0,0,120.0,40.0,0.5,140.0,4.6,16.0,43.0,4500.0,4.9,0,0,0,0,0,0\\n6,68.0,70.0,1.01,0.0,0.0,1,1,0,0,100.0,54.0,24.0,104.0,4.0,12.4,36.0,4700.0,4.5,0,0,0,0,0,0\\n1,7.0,50.0,1.02,4.0,0.0,0,1,0,0,114.0,18.0,0.8,137.0,5.0,11.3,38.0,6000.0,5.8,0,0,0,0,0,0\\n297,53.0,60.0,1.025,0.0,0.0,1,1,0,0,116.0,26.0,1.0,146.0,4.9,15.8,45.0,7700.0,5.2,0,0,0,0,0,0\\n54,63.0,80.0,1.01,2.0,2.0,1,1,0,0,93.0,106.0,3.4,136.0,4.2,13.0,40.0,9800.0,4.2,1,0,1,0,0,0\\n374,79.0,80.0,1.025,0.0,0.0,1,1,0,0,111.0,44.0,1.2,146.0,3.6,16.3,40.0,8000.0,6.4,0,0,0,0,0,0\\n255,34.0,80.0,1.025,0.0,0.0,1,1,0,0,121.0,27.0,1.2,144.0,3.9,13.6,52.0,9200.0,6.3,0,0,0,0,0,0\\n158,71.0,60.0,1.02,3.0,2.0,1,1,1,0,424.0,48.0,1.5,132.0,4.0,10.9,31.0,9100.0,8.0,1,1,1,0,0,0\\n233,51.0,100.0,1.015,2.0,0.0,1,1,0,1,93.0,20.0,1.6,146.0,4.5,16.5,54.0,5000.0,4.7,0,0,0,1,0,0\\n247,54.0,90.0,1.025,1.0,0.0,1,0,0,0,150.0,18.0,1.2,140.0,4.2,7.1,43.0,6900.0,6.1,0,0,0,1,1,1\\n144,60.0,90.0,1.01,2.0,0.0,0,1,0,0,105.0,53.0,2.3,136.0,5.2,11.1,33.0,10500.0,4.1,0,0,0,0,0,0\\n294,75.0,60.0,1.02,0.0,0.0,1,1,0,0,110.0,50.0,0.7,135.0,5.0,14.3,40.0,8300.0,5.8,0,0,0,0,0,0\\n171,83.0,70.0,1.02,3.0,0.0,1,1,0,0,102.0,60.0,2.6,115.0,5.7,8.7,26.0,12800.0,3.1,1,0,0,1,0,1\\n280,47.0,80.0,1.01,1.0,0.0,1,1,0,0,93.0,33.0,0.9,144.0,4.5,13.3,52.0,8100.0,5.2,0,0,0,0,0,0\\n318,61.0,70.0,1.025,0.0,0.0,1,1,0,0,120.0,29.0,0.7,137.0,3.5,17.4,52.0,7000.0,5.3,0,0,0,0,0,0\\n52,53.0,90.0,1.015,0.0,0.0,1,1,0,0,219.0,38.0,2.2,147.0,3.5,10.9,34.0,4300.0,3.7,0,0,0,1,0,1\\n10,50.0,60.0,1.01,2.0,4.0,0,0,1,0,490.0,55.0,4.0,133.0,4.0,9.4,28.0,6500.0,4.7,1,1,0,0,0,1\\n26,75.0,80.0,1.015,0.0,0.0,1,1,0,0,156.0,45.0,2.4,140.0,3.4,11.6,35.0,10300.0,4.0,1,1,0,1,0,0\\n45,54.0,80.0,1.02,3.0,0.0,1,0,0,0,208.0,89.0,5.9,130.0,4.9,9.3,24.0,9500.0,5.2,1,1,0,1,1,0\\n74,56.0,90.0,1.015,2.0,0.0,0,0,0,0,129.0,107.0,6.7,131.0,4.8,9.1,29.0,6400.0,3.4,1,0,0,0,0,0\\n272,56.0,80.0,1.025,0.0,0.0,1,1,0,0,139.0,15.0,1.2,135.0,5.0,14.8,42.0,5600.0,5.5,0,0,0,0,0,0\\n4,51.0,80.0,1.01,2.0,0.0,1,1,0,0,106.0,26.0,1.4,126.0,3.8,11.6,35.0,7300.0,4.6,0,0,0,0,0,0\\n354,32.0,60.0,1.025,0.0,0.0,1,1,0,0,102.0,17.0,0.4,147.0,4.7,14.6,41.0,6800.0,5.1,0,0,0,0,0,0\\n191,60.0,70.0,1.01,3.0,0.0,1,1,0,0,110.0,115.0,6.0,134.0,2.7,9.1,26.0,9200.0,3.4,1,1,0,1,0,0\\n371,28.0,60.0,1.025,0.0,0.0,1,1,0,0,79.0,50.0,0.5,145.0,5.0,17.6,51.0,6500.0,5.0,0,0,0,0,0,0\\n145,57.0,90.0,1.015,5.0,0.0,0,0,0,1,173.0,322.0,13.0,126.0,4.8,8.0,24.0,4200.0,3.3,1,1,1,1,1,1\\n5,60.0,90.0,1.015,3.0,0.0,0,0,0,0,74.0,25.0,1.1,142.0,3.2,12.2,39.0,7800.0,4.4,1,1,0,0,1,0\\n154,56.0,90.0,1.005,4.0,3.0,0,0,0,0,242.0,132.0,16.4,140.0,4.2,8.4,26.0,7400.0,3.0,1,1,0,1,1,1\\n310,46.0,60.0,1.02,0.0,0.0,1,1,0,0,102.0,27.0,0.7,142.0,4.9,13.2,44.0,11000.0,5.4,0,0,0,0,0,0\\n7,24.0,180.0,1.015,2.0,4.0,1,0,0,0,410.0,31.0,1.1,144.0,3.7,12.4,44.0,6900.0,5.0,0,1,0,0,1,0\\n260,30.0,80.0,1.02,0.0,0.0,1,1,0,0,131.0,38.0,1.0,147.0,3.8,14.1,45.0,9400.0,5.3,0,0,0,0,0,0\\n68,65.0,70.0,1.01,2.0,0.0,1,1,1,0,112.0,73.0,3.3,125.0,3.5,10.9,37.0,6000.0,3.3,0,0,0,0,0,0\\n20,61.0,80.0,1.015,2.0,0.0,0,0,0,0,173.0,148.0,3.9,135.0,5.2,7.7,24.0,9200.0,3.2,1,1,1,1,1,1\\n107,55.0,100.0,1.015,1.0,4.0,1,1,0,0,297.0,53.0,2.8,139.0,4.5,11.2,34.0,13600.0,4.4,1,1,0,0,0,0\\n14,68.0,80.0,1.01,3.0,2.0,1,0,1,1,157.0,90.0,4.1,130.0,6.4,5.6,16.0,11000.0,2.6,1,1,1,1,1,0\\n363,67.0,80.0,1.025,0.0,0.0,1,1,0,0,99.0,40.0,0.5,120.0,3.5,17.8,44.0,5900.0,5.2,0,0,0,0,0,0\\n304,33.0,80.0,1.025,0.0,0.0,1,1,0,0,128.0,38.0,0.6,135.0,3.9,13.1,45.0,6200.0,4.5,0,0,0,0,0,0\\n361,29.0,80.0,1.02,0.0,0.0,1,1,0,0,70.0,16.0,0.7,138.0,3.5,13.7,54.0,5400.0,5.8,0,0,0,0,0,0\\n329,33.0,60.0,1.025,0.0,0.0,1,1,0,0,80.0,25.0,0.9,146.0,3.5,14.1,48.0,7800.0,5.1,0,0,0,0,0,0\\n336,25.0,60.0,1.02,0.0,0.0,1,1,0,0,119.0,27.0,0.5,142.0,3.8,15.2,40.0,9200.0,5.2,0,0,0,0,0,0\\n64,55.0,80.0,1.01,0.0,0.0,0,1,0,0,146.0,24.0,1.2,142.0,3.8,9.8,40.0,8600.0,4.5,0,0,0,0,0,0\\n55,35.0,80.0,1.005,3.0,0.0,0,1,0,0,137.0,73.0,1.0,140.0,5.1,9.5,28.0,9900.0,2.3,0,0,0,0,1,0\\n106,50.0,90.0,1.02,1.0,0.0,1,1,0,0,89.0,118.0,6.1,127.0,4.4,6.0,17.0,6500.0,4.8,1,1,0,0,1,1\\n300,45.0,60.0,1.02,0.0,0.0,1,1,0,0,114.0,26.0,0.7,141.0,4.2,15.0,43.0,9200.0,5.8,0,0,0,0,0,0\\n229,59.0,50.0,1.01,3.0,0.0,1,0,0,0,241.0,191.0,12.0,114.0,2.9,9.6,31.0,15700.0,3.8,0,1,0,0,1,0\\n122,34.0,70.0,1.025,4.0,0.0,1,0,0,0,89.0,219.0,12.2,130.0,3.8,6.0,32.0,9500.0,6.1,1,0,0,0,0,1\\n373,61.0,70.0,1.025,0.0,0.0,1,1,0,0,133.0,38.0,1.0,142.0,3.6,13.7,47.0,9200.0,4.9,0,0,0,0,0,0\\n395,55.0,80.0,1.02,0.0,0.0,1,1,0,0,140.0,49.0,0.5,150.0,4.9,15.7,47.0,6700.0,4.9,0,0,0,0,0,0\\n325,58.0,80.0,1.02,0.0,0.0,1,1,0,0,100.0,50.0,1.2,140.0,3.5,14.0,50.0,6700.0,6.5,0,0,0,0,0,0\\n380,59.0,60.0,1.02,0.0,0.0,1,1,0,0,113.0,23.0,1.1,139.0,3.5,15.3,54.0,6500.0,4.9,0,0,0,0,0,0\\n253,57.0,80.0,1.025,0.0,0.0,1,1,0,0,119.0,17.0,1.2,135.0,4.7,15.4,42.0,6200.0,6.2,0,0,0,0,0,0\\n56,76.0,70.0,1.015,3.0,4.0,1,0,1,0,112.0,164.0,9.7,131.0,4.4,10.2,30.0,11300.0,3.4,1,1,1,1,1,0\\n8,52.0,100.0,1.015,3.0,0.0,1,0,1,0,138.0,60.0,1.9,150.0,3.5,10.8,33.0,9600.0,4.0,1,1,0,0,0,1\\n190,6.0,60.0,1.01,4.0,0.0,0,0,0,1,94.0,67.0,1.0,135.0,4.9,9.9,30.0,16700.0,4.8,0,0,0,1,0,0\\n146,53.0,100.0,1.01,1.0,3.0,0,1,0,0,213.0,23.0,1.0,139.0,4.0,9.8,26.0,9100.0,5.1,0,1,0,0,0,0\\n135,48.0,80.0,1.015,0.0,2.0,1,1,0,0,214.0,24.0,1.3,140.0,4.0,13.2,39.0,6000.0,4.9,0,1,0,1,0,0\\n390,52.0,80.0,1.025,0.0,0.0,1,1,0,0,99.0,25.0,0.8,135.0,3.7,15.0,52.0,6300.0,5.3,0,0,0,0,0,0\\n264,42.0,80.0,1.02,0.0,0.0,1,1,0,0,132.0,24.0,0.7,140.0,4.1,14.4,50.0,5000.0,4.5,0,0,0,0,0,0\\n364,73.0,80.0,1.025,0.0,0.0,1,1,0,0,118.0,44.0,0.7,137.0,3.5,14.8,45.0,9300.0,4.7,0,0,0,0,0,0\\n250,40.0,80.0,1.025,0.0,0.0,1,1,0,0,140.0,10.0,1.2,135.0,5.0,15.0,48.0,10400.0,4.5,0,0,0,0,0,0\\n63,46.0,70.0,1.015,1.0,0.0,0,1,0,0,150.0,111.0,6.1,131.0,3.7,7.5,27.0,6700.0,5.2,0,0,0,0,0,1\\n312,80.0,70.0,1.02,0.0,0.0,1,1,0,0,133.0,96.0,0.9,135.0,4.1,15.3,48.0,6300.0,6.1,0,0,0,0,0,0\\n159,59.0,80.0,1.01,1.0,0.0,0,1,0,0,303.0,35.0,1.3,122.0,3.5,10.4,35.0,10900.0,4.3,0,1,0,1,0,0\\n283,60.0,70.0,1.02,0.0,0.0,1,1,0,0,220.0,153.0,0.5,142.0,5.4,16.4,43.0,10800.0,5.7,0,0,0,0,0,0\\n340,32.0,70.0,1.025,0.0,0.0,1,1,0,0,100.0,29.0,1.1,142.0,4.5,14.3,43.0,6700.0,5.9,0,0,0,0,0,0\\n81,45.0,90.0,1.015,3.0,0.0,0,1,0,0,360.0,45.0,2.4,128.0,4.4,8.3,29.0,5500.0,3.7,1,1,0,0,0,0\\n349,35.0,70.0,1.025,0.0,0.0,0,1,0,0,82.0,36.0,1.1,150.0,3.5,14.5,52.0,9400.0,6.1,0,0,0,0,0,0\\n153,55.0,90.0,1.01,2.0,1.0,0,0,0,0,273.0,235.0,14.2,132.0,3.4,8.3,22.0,14600.0,2.9,1,1,0,1,1,1\\n295,44.0,70.0,1.01,1.0,4.0,1,1,0,0,106.0,25.0,0.9,150.0,3.6,15.0,50.0,9600.0,6.5,0,0,0,0,0,0\\n96,60.0,80.0,1.01,1.0,1.0,0,1,0,0,172.0,32.0,2.7,136.0,4.5,11.2,36.0,7900.0,6.1,0,1,1,1,0,0\\n89,50.0,70.0,1.02,0.0,0.0,1,1,0,0,109.0,32.0,1.4,139.0,4.7,16.4,37.0,6500.0,3.7,0,0,0,1,0,0\\n296,41.0,70.0,1.02,0.0,0.0,1,1,0,0,125.0,38.0,0.6,140.0,5.0,16.8,41.0,6300.0,5.9,0,0,0,0,0,0\\n21,60.0,90.0,1.01,3.0,0.0,1,0,0,0,76.0,180.0,76.0,4.5,3.2,10.9,32.0,6200.0,3.6,1,1,1,0,0,0\\n365,24.0,80.0,1.02,0.0,0.0,1,1,0,0,93.0,46.0,1.0,145.0,3.5,15.2,26.0,10700.0,6.3,0,0,0,0,0,0\\n216,64.0,70.0,1.01,0.0,0.0,0,1,0,0,107.0,15.0,0.6,131.0,4.9,12.8,38.0,11000.0,4.0,0,0,0,0,0,0\\n259,35.0,80.0,1.02,0.0,0.0,1,1,0,0,104.0,31.0,1.2,135.0,5.0,16.1,45.0,4300.0,5.2,0,0,0,0,0,0\\n49,60.0,70.0,1.01,2.0,0.0,1,0,1,0,144.0,72.0,3.0,138.0,5.0,9.7,29.0,21600.0,3.5,1,1,0,1,0,1\\n238,72.0,100.0,1.02,0.0,0.0,1,1,0,0,201.0,241.0,13.4,127.0,4.8,9.4,28.0,9600.0,3.4,1,1,0,0,0,1\\n343,37.0,60.0,1.025,0.0,0.0,1,1,0,0,111.0,35.0,0.8,135.0,4.1,16.2,50.0,5500.0,5.7,0,0,0,0,0,0\\n'"
      ]
     },
     "execution_count": 27,
     "metadata": {},
     "output_type": "execute_result"
    }
   ],
   "source": [
    "X_test.to_csv()"
   ]
  },
  {
   "cell_type": "code",
   "execution_count": 28,
   "id": "49e70610",
   "metadata": {},
   "outputs": [
    {
     "data": {
      "text/plain": [
       "array([0, 1, 1, 0, 0, 0, 0, 1, 0, 0, 0, 0, 0, 1, 0, 0, 1, 0, 0, 0, 0, 1,\n",
       "       0, 1, 0, 1, 0, 0, 1, 0, 0, 1, 1, 0, 0, 0, 0, 0, 0, 1, 0, 1, 0, 0,\n",
       "       1, 0, 1, 1, 0, 0, 0, 0, 1, 0, 0, 1, 0, 0, 0, 0, 0, 1, 0, 1, 0, 1,\n",
       "       0, 0, 0, 1, 0, 1, 0, 0, 0, 0, 1, 1, 1, 1, 1, 0, 0, 0, 1, 0, 0, 1,\n",
       "       1, 1, 1, 1, 0, 0, 0, 0, 0, 1, 1, 1, 1, 0, 1, 0, 1, 1, 0, 1, 0, 0,\n",
       "       0, 0, 1, 0, 1, 0, 1, 0, 0, 1])"
      ]
     },
     "execution_count": 28,
     "metadata": {},
     "output_type": "execute_result"
    }
   ],
   "source": [
    "xgb.predict(X_test)"
   ]
  },
  {
   "cell_type": "code",
   "execution_count": 29,
   "id": "3b29994d",
   "metadata": {},
   "outputs": [],
   "source": [
    "test={}"
   ]
  },
  {
   "cell_type": "code",
   "execution_count": 30,
   "id": "58c8c911",
   "metadata": {},
   "outputs": [],
   "source": [
    "import joblib\n",
    "joblib.dump(xgb, 'kidney_disease_model.joblib')\n",
    "loaded_model = joblib.load('kidney_disease_model.joblib')"
   ]
  },
  {
   "cell_type": "code",
   "execution_count": 31,
   "id": "b8814923",
   "metadata": {},
   "outputs": [],
   "source": [
    "import pickle\n"
   ]
  },
  {
   "cell_type": "code",
   "execution_count": 32,
   "id": "11620baa",
   "metadata": {},
   "outputs": [],
   "source": [
    "with open('kidney_disease_model.pkl', 'wb') as file:\n",
    "    pickle.dump(xgb, file)"
   ]
  },
  {
   "cell_type": "code",
   "execution_count": 33,
   "id": "26fbb152",
   "metadata": {},
   "outputs": [],
   "source": [
    "with open('kidney_disease_model.pkl', 'rb') as file:\n",
    "    loaded_model = pickle.load(file)\n"
   ]
  },
  {
   "cell_type": "code",
   "execution_count": 35,
   "id": "3b000398",
   "metadata": {
    "ExecuteTime": {
     "end_time": "2024-01-27T19:21:31.225859Z",
     "start_time": "2024-01-27T19:21:30.984952Z"
    }
   },
   "outputs": [
    {
     "name": "stdout",
     "output_type": "stream",
     "text": [
      "the person is not having kidney disease\n"
     ]
    }
   ],
   "source": [
    "input_data=(47.0,100.0,1.01,0.0,0.0,1,1,0,0,122.0,31.0,16.9,138.0,5.2,10.8,33.0,10200.0,3.8,0,1,0,0,0,0)\n",
    "input_data=np.asarray(input_data)\n",
    "input_data_reshaped=input_data.reshape(1,-1)\n",
    "prediction=loaded_model.predict(input_data_reshaped)\n",
    "#print(prediction)\n",
    "if(prediction==0):\n",
    "    print('the person is not having kidney disease')\n",
    "else:\n",
    "    print('the person is having Kideny Disease')"
   ]
  },
  {
   "cell_type": "code",
   "execution_count": null,
   "id": "d2fba6fd",
   "metadata": {},
   "outputs": [],
   "source": []
  }
 ],
 "metadata": {
  "kernelspec": {
   "display_name": "Python 3 (ipykernel)",
   "language": "python",
   "name": "python3"
  },
  "language_info": {
   "codemirror_mode": {
    "name": "ipython",
    "version": 3
   },
   "file_extension": ".py",
   "mimetype": "text/x-python",
   "name": "python",
   "nbconvert_exporter": "python",
   "pygments_lexer": "ipython3",
   "version": "3.11.5"
  }
 },
 "nbformat": 4,
 "nbformat_minor": 5
}
