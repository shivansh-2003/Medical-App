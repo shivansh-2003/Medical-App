{
 "cells": [
  {
   "cell_type": "code",
   "execution_count": 5,
   "id": "a2da774f",
   "metadata": {
    "ExecuteTime": {
     "end_time": "2024-01-27T20:07:58.079952Z",
     "start_time": "2024-01-27T20:07:58.072949Z"
    }
   },
   "outputs": [],
   "source": [
    "import pandas as pd\n",
    "import numpy as np\n",
    "import matplotlib.pyplot as plt\n",
    "import seaborn as sns\n",
    "import plotly.express as px\n",
    "\n",
    "import warnings    \n",
    "warnings.filterwarnings('ignore')"
   ]
  },
  {
   "cell_type": "code",
   "execution_count": 6,
   "id": "bb87c0b1",
   "metadata": {
    "ExecuteTime": {
     "end_time": "2024-01-27T20:07:58.431598Z",
     "start_time": "2024-01-27T20:07:58.415059Z"
    }
   },
   "outputs": [
    {
     "data": {
      "text/html": [
       "<div>\n",
       "<style scoped>\n",
       "    .dataframe tbody tr th:only-of-type {\n",
       "        vertical-align: middle;\n",
       "    }\n",
       "\n",
       "    .dataframe tbody tr th {\n",
       "        vertical-align: top;\n",
       "    }\n",
       "\n",
       "    .dataframe thead th {\n",
       "        text-align: right;\n",
       "    }\n",
       "</style>\n",
       "<table border=\"1\" class=\"dataframe\">\n",
       "  <thead>\n",
       "    <tr style=\"text-align: right;\">\n",
       "      <th></th>\n",
       "      <th>id</th>\n",
       "      <th>age</th>\n",
       "      <th>bp</th>\n",
       "      <th>sg</th>\n",
       "      <th>al</th>\n",
       "      <th>su</th>\n",
       "      <th>rbc</th>\n",
       "      <th>pc</th>\n",
       "      <th>pcc</th>\n",
       "      <th>ba</th>\n",
       "      <th>...</th>\n",
       "      <th>pcv</th>\n",
       "      <th>wc</th>\n",
       "      <th>rc</th>\n",
       "      <th>htn</th>\n",
       "      <th>dm</th>\n",
       "      <th>cad</th>\n",
       "      <th>appet</th>\n",
       "      <th>pe</th>\n",
       "      <th>ane</th>\n",
       "      <th>classification</th>\n",
       "    </tr>\n",
       "  </thead>\n",
       "  <tbody>\n",
       "    <tr>\n",
       "      <th>0</th>\n",
       "      <td>0</td>\n",
       "      <td>48.0</td>\n",
       "      <td>80.0</td>\n",
       "      <td>1.020</td>\n",
       "      <td>1.0</td>\n",
       "      <td>0.0</td>\n",
       "      <td>NaN</td>\n",
       "      <td>normal</td>\n",
       "      <td>notpresent</td>\n",
       "      <td>notpresent</td>\n",
       "      <td>...</td>\n",
       "      <td>44</td>\n",
       "      <td>7800</td>\n",
       "      <td>5.2</td>\n",
       "      <td>yes</td>\n",
       "      <td>yes</td>\n",
       "      <td>no</td>\n",
       "      <td>good</td>\n",
       "      <td>no</td>\n",
       "      <td>no</td>\n",
       "      <td>ckd</td>\n",
       "    </tr>\n",
       "    <tr>\n",
       "      <th>1</th>\n",
       "      <td>1</td>\n",
       "      <td>7.0</td>\n",
       "      <td>50.0</td>\n",
       "      <td>1.020</td>\n",
       "      <td>4.0</td>\n",
       "      <td>0.0</td>\n",
       "      <td>NaN</td>\n",
       "      <td>normal</td>\n",
       "      <td>notpresent</td>\n",
       "      <td>notpresent</td>\n",
       "      <td>...</td>\n",
       "      <td>38</td>\n",
       "      <td>6000</td>\n",
       "      <td>NaN</td>\n",
       "      <td>no</td>\n",
       "      <td>no</td>\n",
       "      <td>no</td>\n",
       "      <td>good</td>\n",
       "      <td>no</td>\n",
       "      <td>no</td>\n",
       "      <td>ckd</td>\n",
       "    </tr>\n",
       "    <tr>\n",
       "      <th>2</th>\n",
       "      <td>2</td>\n",
       "      <td>62.0</td>\n",
       "      <td>80.0</td>\n",
       "      <td>1.010</td>\n",
       "      <td>2.0</td>\n",
       "      <td>3.0</td>\n",
       "      <td>normal</td>\n",
       "      <td>normal</td>\n",
       "      <td>notpresent</td>\n",
       "      <td>notpresent</td>\n",
       "      <td>...</td>\n",
       "      <td>31</td>\n",
       "      <td>7500</td>\n",
       "      <td>NaN</td>\n",
       "      <td>no</td>\n",
       "      <td>yes</td>\n",
       "      <td>no</td>\n",
       "      <td>poor</td>\n",
       "      <td>no</td>\n",
       "      <td>yes</td>\n",
       "      <td>ckd</td>\n",
       "    </tr>\n",
       "    <tr>\n",
       "      <th>3</th>\n",
       "      <td>3</td>\n",
       "      <td>48.0</td>\n",
       "      <td>70.0</td>\n",
       "      <td>1.005</td>\n",
       "      <td>4.0</td>\n",
       "      <td>0.0</td>\n",
       "      <td>normal</td>\n",
       "      <td>abnormal</td>\n",
       "      <td>present</td>\n",
       "      <td>notpresent</td>\n",
       "      <td>...</td>\n",
       "      <td>32</td>\n",
       "      <td>6700</td>\n",
       "      <td>3.9</td>\n",
       "      <td>yes</td>\n",
       "      <td>no</td>\n",
       "      <td>no</td>\n",
       "      <td>poor</td>\n",
       "      <td>yes</td>\n",
       "      <td>yes</td>\n",
       "      <td>ckd</td>\n",
       "    </tr>\n",
       "    <tr>\n",
       "      <th>4</th>\n",
       "      <td>4</td>\n",
       "      <td>51.0</td>\n",
       "      <td>80.0</td>\n",
       "      <td>1.010</td>\n",
       "      <td>2.0</td>\n",
       "      <td>0.0</td>\n",
       "      <td>normal</td>\n",
       "      <td>normal</td>\n",
       "      <td>notpresent</td>\n",
       "      <td>notpresent</td>\n",
       "      <td>...</td>\n",
       "      <td>35</td>\n",
       "      <td>7300</td>\n",
       "      <td>4.6</td>\n",
       "      <td>no</td>\n",
       "      <td>no</td>\n",
       "      <td>no</td>\n",
       "      <td>good</td>\n",
       "      <td>no</td>\n",
       "      <td>no</td>\n",
       "      <td>ckd</td>\n",
       "    </tr>\n",
       "  </tbody>\n",
       "</table>\n",
       "<p>5 rows × 26 columns</p>\n",
       "</div>"
      ],
      "text/plain": [
       "   id   age    bp     sg   al   su     rbc        pc         pcc          ba  \\\n",
       "0   0  48.0  80.0  1.020  1.0  0.0     NaN    normal  notpresent  notpresent   \n",
       "1   1   7.0  50.0  1.020  4.0  0.0     NaN    normal  notpresent  notpresent   \n",
       "2   2  62.0  80.0  1.010  2.0  3.0  normal    normal  notpresent  notpresent   \n",
       "3   3  48.0  70.0  1.005  4.0  0.0  normal  abnormal     present  notpresent   \n",
       "4   4  51.0  80.0  1.010  2.0  0.0  normal    normal  notpresent  notpresent   \n",
       "\n",
       "   ...  pcv    wc   rc  htn   dm  cad appet   pe  ane classification  \n",
       "0  ...   44  7800  5.2  yes  yes   no  good   no   no            ckd  \n",
       "1  ...   38  6000  NaN   no   no   no  good   no   no            ckd  \n",
       "2  ...   31  7500  NaN   no  yes   no  poor   no  yes            ckd  \n",
       "3  ...   32  6700  3.9  yes   no   no  poor  yes  yes            ckd  \n",
       "4  ...   35  7300  4.6   no   no   no  good   no   no            ckd  \n",
       "\n",
       "[5 rows x 26 columns]"
      ]
     },
     "execution_count": 6,
     "metadata": {},
     "output_type": "execute_result"
    }
   ],
   "source": [
    "df= pd.read_csv('/Users/shivanshmahajan/Desktop/Kidney/kidney_disease.csv')\n",
    "df.head()"
   ]
  },
  {
   "cell_type": "code",
   "execution_count": 7,
   "id": "d26d8bf2",
   "metadata": {
    "ExecuteTime": {
     "end_time": "2024-01-27T20:07:59.450563Z",
     "start_time": "2024-01-27T20:07:59.438817Z"
    }
   },
   "outputs": [],
   "source": [
    "df.drop('id', axis = 1, inplace = True)"
   ]
  },
  {
   "cell_type": "code",
   "execution_count": 8,
   "id": "d7cdc48a",
   "metadata": {
    "ExecuteTime": {
     "end_time": "2024-01-27T20:07:59.710911Z",
     "start_time": "2024-01-27T20:07:59.703171Z"
    }
   },
   "outputs": [
    {
     "name": "stdout",
     "output_type": "stream",
     "text": [
      "<class 'pandas.core.frame.DataFrame'>\n",
      "RangeIndex: 400 entries, 0 to 399\n",
      "Data columns (total 25 columns):\n",
      " #   Column          Non-Null Count  Dtype  \n",
      "---  ------          --------------  -----  \n",
      " 0   age             391 non-null    float64\n",
      " 1   bp              388 non-null    float64\n",
      " 2   sg              353 non-null    float64\n",
      " 3   al              354 non-null    float64\n",
      " 4   su              351 non-null    float64\n",
      " 5   rbc             248 non-null    object \n",
      " 6   pc              335 non-null    object \n",
      " 7   pcc             396 non-null    object \n",
      " 8   ba              396 non-null    object \n",
      " 9   bgr             356 non-null    float64\n",
      " 10  bu              381 non-null    float64\n",
      " 11  sc              383 non-null    float64\n",
      " 12  sod             313 non-null    float64\n",
      " 13  pot             312 non-null    float64\n",
      " 14  hemo            348 non-null    float64\n",
      " 15  pcv             330 non-null    object \n",
      " 16  wc              295 non-null    object \n",
      " 17  rc              270 non-null    object \n",
      " 18  htn             398 non-null    object \n",
      " 19  dm              398 non-null    object \n",
      " 20  cad             398 non-null    object \n",
      " 21  appet           399 non-null    object \n",
      " 22  pe              399 non-null    object \n",
      " 23  ane             399 non-null    object \n",
      " 24  classification  400 non-null    object \n",
      "dtypes: float64(11), object(14)\n",
      "memory usage: 78.3+ KB\n"
     ]
    }
   ],
   "source": [
    "df.info()"
   ]
  },
  {
   "cell_type": "code",
   "execution_count": 9,
   "id": "3fd7c458",
   "metadata": {
    "ExecuteTime": {
     "end_time": "2024-01-27T20:07:59.979949Z",
     "start_time": "2024-01-27T20:07:59.973627Z"
    }
   },
   "outputs": [],
   "source": [
    "df.columns = ['age', 'blood_pressure', 'specific_gravity', 'albumin', 'sugar', 'red_blood_cells', 'pus_cell',\n",
    "              'pus_cell_clumps', 'bacteria', 'blood_glucose_random', 'blood_urea', 'serum_creatinine', 'sodium',\n",
    "              'potassium', 'haemoglobin', 'packed_cell_volume', 'white_blood_cell_count', 'red_blood_cell_count',\n",
    "              'hypertension', 'diabetes_mellitus', 'coronary_artery_disease', 'appetite', 'peda_edema',\n",
    "              'aanemia', 'class']"
   ]
  },
  {
   "cell_type": "code",
   "execution_count": 10,
   "id": "10688678",
   "metadata": {
    "ExecuteTime": {
     "end_time": "2024-01-27T20:08:00.285971Z",
     "start_time": "2024-01-27T20:08:00.282250Z"
    }
   },
   "outputs": [
    {
     "name": "stdout",
     "output_type": "stream",
     "text": [
      "<class 'pandas.core.frame.DataFrame'>\n",
      "RangeIndex: 400 entries, 0 to 399\n",
      "Data columns (total 25 columns):\n",
      " #   Column                   Non-Null Count  Dtype  \n",
      "---  ------                   --------------  -----  \n",
      " 0   age                      391 non-null    float64\n",
      " 1   blood_pressure           388 non-null    float64\n",
      " 2   specific_gravity         353 non-null    float64\n",
      " 3   albumin                  354 non-null    float64\n",
      " 4   sugar                    351 non-null    float64\n",
      " 5   red_blood_cells          248 non-null    object \n",
      " 6   pus_cell                 335 non-null    object \n",
      " 7   pus_cell_clumps          396 non-null    object \n",
      " 8   bacteria                 396 non-null    object \n",
      " 9   blood_glucose_random     356 non-null    float64\n",
      " 10  blood_urea               381 non-null    float64\n",
      " 11  serum_creatinine         383 non-null    float64\n",
      " 12  sodium                   313 non-null    float64\n",
      " 13  potassium                312 non-null    float64\n",
      " 14  haemoglobin              348 non-null    float64\n",
      " 15  packed_cell_volume       330 non-null    object \n",
      " 16  white_blood_cell_count   295 non-null    object \n",
      " 17  red_blood_cell_count     270 non-null    object \n",
      " 18  hypertension             398 non-null    object \n",
      " 19  diabetes_mellitus        398 non-null    object \n",
      " 20  coronary_artery_disease  398 non-null    object \n",
      " 21  appetite                 399 non-null    object \n",
      " 22  peda_edema               399 non-null    object \n",
      " 23  aanemia                  399 non-null    object \n",
      " 24  class                    400 non-null    object \n",
      "dtypes: float64(11), object(14)\n",
      "memory usage: 78.3+ KB\n"
     ]
    }
   ],
   "source": [
    "df.info()"
   ]
  },
  {
   "cell_type": "code",
   "execution_count": 11,
   "id": "4b2160c8",
   "metadata": {
    "ExecuteTime": {
     "end_time": "2024-01-27T20:08:00.585360Z",
     "start_time": "2024-01-27T20:08:00.576976Z"
    }
   },
   "outputs": [],
   "source": [
    "df['packed_cell_volume'] = pd.to_numeric(df['packed_cell_volume'], errors='coerce')\n",
    "df['white_blood_cell_count'] = pd.to_numeric(df['white_blood_cell_count'], errors='coerce')\n",
    "df['red_blood_cell_count'] = pd.to_numeric(df['red_blood_cell_count'], errors='coerce')"
   ]
  },
  {
   "cell_type": "code",
   "execution_count": 12,
   "id": "deb3f48f",
   "metadata": {
    "ExecuteTime": {
     "end_time": "2024-01-27T20:08:00.932632Z",
     "start_time": "2024-01-27T20:08:00.924919Z"
    }
   },
   "outputs": [],
   "source": [
    "cat_cols = [col for col in df.columns if df[col].dtype == 'object']\n",
    "num_cols = [col for col in df.columns if df[col].dtype != 'object']"
   ]
  },
  {
   "cell_type": "code",
   "execution_count": 13,
   "id": "409db237",
   "metadata": {
    "ExecuteTime": {
     "end_time": "2024-01-27T20:08:01.122271Z",
     "start_time": "2024-01-27T20:08:01.112245Z"
    }
   },
   "outputs": [],
   "source": [
    "df['diabetes_mellitus'].replace(to_replace = {'\\tno':'no','\\tyes':'yes',' yes':'yes'},inplace=True)\n",
    "\n",
    "df['coronary_artery_disease'] = df['coronary_artery_disease'].replace(to_replace = '\\tno', value='no')\n",
    "\n",
    "df['class'] = df['class'].replace(to_replace = {'ckd\\t': 'ckd', 'notckd': 'not ckd'})"
   ]
  },
  {
   "cell_type": "code",
   "execution_count": 14,
   "id": "56030c97",
   "metadata": {
    "ExecuteTime": {
     "end_time": "2024-01-27T20:08:01.346176Z",
     "start_time": "2024-01-27T20:08:01.336910Z"
    }
   },
   "outputs": [],
   "source": [
    "df['class'] = df['class'].map({'ckd': 0, 'not ckd': 1})\n",
    "df['class'] = pd.to_numeric(df['class'], errors='coerce')"
   ]
  },
  {
   "cell_type": "code",
   "execution_count": 15,
   "id": "dac058af",
   "metadata": {
    "ExecuteTime": {
     "end_time": "2024-01-27T20:08:01.536797Z",
     "start_time": "2024-01-27T20:08:01.529872Z"
    }
   },
   "outputs": [
    {
     "data": {
      "text/plain": [
       "red_blood_cells            152\n",
       "red_blood_cell_count       131\n",
       "white_blood_cell_count     106\n",
       "potassium                   88\n",
       "sodium                      87\n",
       "packed_cell_volume          71\n",
       "pus_cell                    65\n",
       "haemoglobin                 52\n",
       "sugar                       49\n",
       "specific_gravity            47\n",
       "albumin                     46\n",
       "blood_glucose_random        44\n",
       "blood_urea                  19\n",
       "serum_creatinine            17\n",
       "blood_pressure              12\n",
       "age                          9\n",
       "bacteria                     4\n",
       "pus_cell_clumps              4\n",
       "hypertension                 2\n",
       "diabetes_mellitus            2\n",
       "coronary_artery_disease      2\n",
       "appetite                     1\n",
       "peda_edema                   1\n",
       "aanemia                      1\n",
       "class                        0\n",
       "dtype: int64"
      ]
     },
     "execution_count": 15,
     "metadata": {},
     "output_type": "execute_result"
    }
   ],
   "source": [
    "df.isna().sum().sort_values(ascending = False)"
   ]
  },
  {
   "cell_type": "code",
   "execution_count": 16,
   "id": "59c34663",
   "metadata": {
    "ExecuteTime": {
     "end_time": "2024-01-27T20:08:01.967660Z",
     "start_time": "2024-01-27T20:08:01.949906Z"
    }
   },
   "outputs": [
    {
     "data": {
      "text/plain": [
       "age                         9\n",
       "blood_pressure             12\n",
       "specific_gravity           47\n",
       "albumin                    46\n",
       "sugar                      49\n",
       "blood_glucose_random       44\n",
       "blood_urea                 19\n",
       "serum_creatinine           17\n",
       "sodium                     87\n",
       "potassium                  88\n",
       "haemoglobin                52\n",
       "packed_cell_volume         71\n",
       "white_blood_cell_count    106\n",
       "red_blood_cell_count      131\n",
       "dtype: int64"
      ]
     },
     "execution_count": 16,
     "metadata": {},
     "output_type": "execute_result"
    }
   ],
   "source": [
    "df[num_cols].isnull().sum()"
   ]
  },
  {
   "cell_type": "code",
   "execution_count": 17,
   "id": "531cc658",
   "metadata": {
    "ExecuteTime": {
     "end_time": "2024-01-27T20:08:02.263073Z",
     "start_time": "2024-01-27T20:08:02.258438Z"
    }
   },
   "outputs": [],
   "source": [
    "def random_value_imputation(feature):\n",
    "    random_sample = df[feature].dropna().sample(df[feature].isna().sum())\n",
    "    random_sample.index = df[df[feature].isnull()].index\n",
    "    df.loc[df[feature].isnull(), feature] = random_sample\n",
    "    \n",
    "def impute_mode(feature):\n",
    "    mode = df[feature].mode()[0]\n",
    "    df[feature] = df[feature].fillna(mode)"
   ]
  },
  {
   "cell_type": "code",
   "execution_count": 18,
   "id": "45d208a3",
   "metadata": {
    "ExecuteTime": {
     "end_time": "2024-01-27T20:08:02.696266Z",
     "start_time": "2024-01-27T20:08:02.675451Z"
    }
   },
   "outputs": [],
   "source": [
    "for col in num_cols:\n",
    "    random_value_imputation(col)"
   ]
  },
  {
   "cell_type": "code",
   "execution_count": 19,
   "id": "218e4c84",
   "metadata": {
    "ExecuteTime": {
     "end_time": "2024-01-27T20:08:03.021120Z",
     "start_time": "2024-01-27T20:08:03.007350Z"
    }
   },
   "outputs": [
    {
     "data": {
      "text/plain": [
       "age                       0\n",
       "blood_pressure            0\n",
       "specific_gravity          0\n",
       "albumin                   0\n",
       "sugar                     0\n",
       "blood_glucose_random      0\n",
       "blood_urea                0\n",
       "serum_creatinine          0\n",
       "sodium                    0\n",
       "potassium                 0\n",
       "haemoglobin               0\n",
       "packed_cell_volume        0\n",
       "white_blood_cell_count    0\n",
       "red_blood_cell_count      0\n",
       "dtype: int64"
      ]
     },
     "execution_count": 19,
     "metadata": {},
     "output_type": "execute_result"
    }
   ],
   "source": [
    "df[num_cols].isnull().sum()"
   ]
  },
  {
   "cell_type": "code",
   "execution_count": 20,
   "id": "cb8e42e5",
   "metadata": {
    "ExecuteTime": {
     "end_time": "2024-01-27T20:08:03.333200Z",
     "start_time": "2024-01-27T20:08:03.325597Z"
    }
   },
   "outputs": [],
   "source": [
    "random_value_imputation('red_blood_cells')\n",
    "random_value_imputation('pus_cell')\n",
    "\n",
    "for col in cat_cols:\n",
    "    impute_mode(col)"
   ]
  },
  {
   "cell_type": "code",
   "execution_count": 21,
   "id": "84f9343b",
   "metadata": {
    "ExecuteTime": {
     "end_time": "2024-01-27T20:08:03.797860Z",
     "start_time": "2024-01-27T20:08:03.791952Z"
    }
   },
   "outputs": [
    {
     "data": {
      "text/plain": [
       "red_blood_cells            0\n",
       "pus_cell                   0\n",
       "pus_cell_clumps            0\n",
       "bacteria                   0\n",
       "hypertension               0\n",
       "diabetes_mellitus          0\n",
       "coronary_artery_disease    0\n",
       "appetite                   0\n",
       "peda_edema                 0\n",
       "aanemia                    0\n",
       "class                      0\n",
       "dtype: int64"
      ]
     },
     "execution_count": 21,
     "metadata": {},
     "output_type": "execute_result"
    }
   ],
   "source": [
    "df[cat_cols].isnull().sum()"
   ]
  },
  {
   "cell_type": "code",
   "execution_count": 22,
   "id": "73a80fc5",
   "metadata": {
    "ExecuteTime": {
     "end_time": "2024-01-27T20:08:04.639533Z",
     "start_time": "2024-01-27T20:08:04.631021Z"
    }
   },
   "outputs": [],
   "source": [
    "from sklearn.preprocessing import LabelEncoder\n",
    "\n",
    "le = LabelEncoder()\n",
    "\n",
    "for col in cat_cols:\n",
    "    df[col] = le.fit_transform(df[col])"
   ]
  },
  {
   "cell_type": "code",
   "execution_count": 23,
   "id": "8ceb3109",
   "metadata": {
    "ExecuteTime": {
     "end_time": "2024-01-27T20:08:05.222151Z",
     "start_time": "2024-01-27T20:08:05.210155Z"
    }
   },
   "outputs": [],
   "source": [
    "ind_col = [col for col in df.columns if col != 'class']\n",
    "dep_col = 'class'\n",
    "\n",
    "X = df[ind_col]\n",
    "y = df[dep_col]"
   ]
  },
  {
   "cell_type": "code",
   "execution_count": 24,
   "id": "754c42c4",
   "metadata": {
    "ExecuteTime": {
     "end_time": "2024-01-27T20:08:05.746538Z",
     "start_time": "2024-01-27T20:08:05.735567Z"
    }
   },
   "outputs": [
    {
     "data": {
      "text/html": [
       "<div>\n",
       "<style scoped>\n",
       "    .dataframe tbody tr th:only-of-type {\n",
       "        vertical-align: middle;\n",
       "    }\n",
       "\n",
       "    .dataframe tbody tr th {\n",
       "        vertical-align: top;\n",
       "    }\n",
       "\n",
       "    .dataframe thead th {\n",
       "        text-align: right;\n",
       "    }\n",
       "</style>\n",
       "<table border=\"1\" class=\"dataframe\">\n",
       "  <thead>\n",
       "    <tr style=\"text-align: right;\">\n",
       "      <th></th>\n",
       "      <th>age</th>\n",
       "      <th>blood_pressure</th>\n",
       "      <th>specific_gravity</th>\n",
       "      <th>albumin</th>\n",
       "      <th>sugar</th>\n",
       "      <th>red_blood_cells</th>\n",
       "      <th>pus_cell</th>\n",
       "      <th>pus_cell_clumps</th>\n",
       "      <th>bacteria</th>\n",
       "      <th>blood_glucose_random</th>\n",
       "      <th>...</th>\n",
       "      <th>packed_cell_volume</th>\n",
       "      <th>white_blood_cell_count</th>\n",
       "      <th>red_blood_cell_count</th>\n",
       "      <th>hypertension</th>\n",
       "      <th>diabetes_mellitus</th>\n",
       "      <th>coronary_artery_disease</th>\n",
       "      <th>appetite</th>\n",
       "      <th>peda_edema</th>\n",
       "      <th>aanemia</th>\n",
       "      <th>class</th>\n",
       "    </tr>\n",
       "  </thead>\n",
       "  <tbody>\n",
       "    <tr>\n",
       "      <th>0</th>\n",
       "      <td>48.0</td>\n",
       "      <td>80.0</td>\n",
       "      <td>1.020</td>\n",
       "      <td>1.0</td>\n",
       "      <td>0.0</td>\n",
       "      <td>1</td>\n",
       "      <td>1</td>\n",
       "      <td>0</td>\n",
       "      <td>0</td>\n",
       "      <td>121.0</td>\n",
       "      <td>...</td>\n",
       "      <td>44.0</td>\n",
       "      <td>7800.0</td>\n",
       "      <td>5.2</td>\n",
       "      <td>1</td>\n",
       "      <td>1</td>\n",
       "      <td>0</td>\n",
       "      <td>0</td>\n",
       "      <td>0</td>\n",
       "      <td>0</td>\n",
       "      <td>0</td>\n",
       "    </tr>\n",
       "    <tr>\n",
       "      <th>1</th>\n",
       "      <td>7.0</td>\n",
       "      <td>50.0</td>\n",
       "      <td>1.020</td>\n",
       "      <td>4.0</td>\n",
       "      <td>0.0</td>\n",
       "      <td>1</td>\n",
       "      <td>1</td>\n",
       "      <td>0</td>\n",
       "      <td>0</td>\n",
       "      <td>219.0</td>\n",
       "      <td>...</td>\n",
       "      <td>38.0</td>\n",
       "      <td>6000.0</td>\n",
       "      <td>5.2</td>\n",
       "      <td>0</td>\n",
       "      <td>0</td>\n",
       "      <td>0</td>\n",
       "      <td>0</td>\n",
       "      <td>0</td>\n",
       "      <td>0</td>\n",
       "      <td>0</td>\n",
       "    </tr>\n",
       "    <tr>\n",
       "      <th>2</th>\n",
       "      <td>62.0</td>\n",
       "      <td>80.0</td>\n",
       "      <td>1.010</td>\n",
       "      <td>2.0</td>\n",
       "      <td>3.0</td>\n",
       "      <td>1</td>\n",
       "      <td>1</td>\n",
       "      <td>0</td>\n",
       "      <td>0</td>\n",
       "      <td>423.0</td>\n",
       "      <td>...</td>\n",
       "      <td>31.0</td>\n",
       "      <td>7500.0</td>\n",
       "      <td>4.2</td>\n",
       "      <td>0</td>\n",
       "      <td>1</td>\n",
       "      <td>0</td>\n",
       "      <td>1</td>\n",
       "      <td>0</td>\n",
       "      <td>1</td>\n",
       "      <td>0</td>\n",
       "    </tr>\n",
       "    <tr>\n",
       "      <th>3</th>\n",
       "      <td>48.0</td>\n",
       "      <td>70.0</td>\n",
       "      <td>1.005</td>\n",
       "      <td>4.0</td>\n",
       "      <td>0.0</td>\n",
       "      <td>1</td>\n",
       "      <td>0</td>\n",
       "      <td>1</td>\n",
       "      <td>0</td>\n",
       "      <td>117.0</td>\n",
       "      <td>...</td>\n",
       "      <td>32.0</td>\n",
       "      <td>6700.0</td>\n",
       "      <td>3.9</td>\n",
       "      <td>1</td>\n",
       "      <td>0</td>\n",
       "      <td>0</td>\n",
       "      <td>1</td>\n",
       "      <td>1</td>\n",
       "      <td>1</td>\n",
       "      <td>0</td>\n",
       "    </tr>\n",
       "    <tr>\n",
       "      <th>4</th>\n",
       "      <td>51.0</td>\n",
       "      <td>80.0</td>\n",
       "      <td>1.010</td>\n",
       "      <td>2.0</td>\n",
       "      <td>0.0</td>\n",
       "      <td>1</td>\n",
       "      <td>1</td>\n",
       "      <td>0</td>\n",
       "      <td>0</td>\n",
       "      <td>106.0</td>\n",
       "      <td>...</td>\n",
       "      <td>35.0</td>\n",
       "      <td>7300.0</td>\n",
       "      <td>4.6</td>\n",
       "      <td>0</td>\n",
       "      <td>0</td>\n",
       "      <td>0</td>\n",
       "      <td>0</td>\n",
       "      <td>0</td>\n",
       "      <td>0</td>\n",
       "      <td>0</td>\n",
       "    </tr>\n",
       "  </tbody>\n",
       "</table>\n",
       "<p>5 rows × 25 columns</p>\n",
       "</div>"
      ],
      "text/plain": [
       "    age  blood_pressure  specific_gravity  albumin  sugar  red_blood_cells  \\\n",
       "0  48.0            80.0             1.020      1.0    0.0                1   \n",
       "1   7.0            50.0             1.020      4.0    0.0                1   \n",
       "2  62.0            80.0             1.010      2.0    3.0                1   \n",
       "3  48.0            70.0             1.005      4.0    0.0                1   \n",
       "4  51.0            80.0             1.010      2.0    0.0                1   \n",
       "\n",
       "   pus_cell  pus_cell_clumps  bacteria  blood_glucose_random  ...  \\\n",
       "0         1                0         0                 121.0  ...   \n",
       "1         1                0         0                 219.0  ...   \n",
       "2         1                0         0                 423.0  ...   \n",
       "3         0                1         0                 117.0  ...   \n",
       "4         1                0         0                 106.0  ...   \n",
       "\n",
       "   packed_cell_volume  white_blood_cell_count  red_blood_cell_count  \\\n",
       "0                44.0                  7800.0                   5.2   \n",
       "1                38.0                  6000.0                   5.2   \n",
       "2                31.0                  7500.0                   4.2   \n",
       "3                32.0                  6700.0                   3.9   \n",
       "4                35.0                  7300.0                   4.6   \n",
       "\n",
       "   hypertension  diabetes_mellitus  coronary_artery_disease  appetite  \\\n",
       "0             1                  1                        0         0   \n",
       "1             0                  0                        0         0   \n",
       "2             0                  1                        0         1   \n",
       "3             1                  0                        0         1   \n",
       "4             0                  0                        0         0   \n",
       "\n",
       "   peda_edema  aanemia  class  \n",
       "0           0        0      0  \n",
       "1           0        0      0  \n",
       "2           0        1      0  \n",
       "3           1        1      0  \n",
       "4           0        0      0  \n",
       "\n",
       "[5 rows x 25 columns]"
      ]
     },
     "execution_count": 24,
     "metadata": {},
     "output_type": "execute_result"
    }
   ],
   "source": [
    "df.head()"
   ]
  },
  {
   "cell_type": "code",
   "execution_count": 25,
   "id": "6f4c1602",
   "metadata": {
    "ExecuteTime": {
     "end_time": "2024-01-27T20:08:06.578187Z",
     "start_time": "2024-01-27T20:08:06.529931Z"
    }
   },
   "outputs": [],
   "source": [
    "from sklearn.metrics import accuracy_score, confusion_matrix, classification_report\n",
    "from sklearn.model_selection import train_test_split\n",
    "\n",
    "X_train, X_test, y_train, y_test = train_test_split(X, y, test_size = 0.30, random_state = 0)"
   ]
  },
  {
   "cell_type": "code",
   "execution_count": 26,
   "id": "ce2f21d5",
   "metadata": {
    "ExecuteTime": {
     "end_time": "2024-01-27T20:08:07.427002Z",
     "start_time": "2024-01-27T20:08:07.424121Z"
    }
   },
   "outputs": [
    {
     "name": "stdout",
     "output_type": "stream",
     "text": [
      "      age  blood_pressure  specific_gravity  albumin  sugar  red_blood_cells  \\\n",
      "132  50.0            90.0              1.02      0.0    0.0                1   \n",
      "\n",
      "     pus_cell  pus_cell_clumps  bacteria  blood_glucose_random  ...  \\\n",
      "132         1                0         0                 219.0  ...   \n",
      "\n",
      "     haemoglobin  packed_cell_volume  white_blood_cell_count  \\\n",
      "132          8.6                24.0                 13200.0   \n",
      "\n",
      "     red_blood_cell_count  hypertension  diabetes_mellitus  \\\n",
      "132                   2.7             1                  0   \n",
      "\n",
      "     coronary_artery_disease  appetite  peda_edema  aanemia  \n",
      "132                        0         0           1        1  \n",
      "\n",
      "[1 rows x 24 columns]\n"
     ]
    }
   ],
   "source": [
    "print(X_test.head(1))"
   ]
  },
  {
   "cell_type": "code",
   "execution_count": 27,
   "id": "9871d0db",
   "metadata": {
    "ExecuteTime": {
     "end_time": "2024-01-27T20:08:07.782471Z",
     "start_time": "2024-01-27T20:08:07.773279Z"
    }
   },
   "outputs": [
    {
     "data": {
      "text/plain": [
       "132    0\n",
       "309    1\n",
       "341    1\n",
       "196    0\n",
       "246    0\n",
       "      ..\n",
       "216    0\n",
       "259    1\n",
       "49     0\n",
       "238    0\n",
       "343    1\n",
       "Name: class, Length: 120, dtype: int64"
      ]
     },
     "execution_count": 27,
     "metadata": {},
     "output_type": "execute_result"
    }
   ],
   "source": [
    "y_test"
   ]
  },
  {
   "cell_type": "code",
   "execution_count": 28,
   "id": "ff92086d",
   "metadata": {
    "ExecuteTime": {
     "end_time": "2024-01-27T20:08:08.110442Z",
     "start_time": "2024-01-27T20:08:08.033798Z"
    }
   },
   "outputs": [
    {
     "name": "stdout",
     "output_type": "stream",
     "text": [
      "Training Accuracy of XgBoost is 1.0\n",
      "Test Accuracy of XgBoost is 0.9916666666666667 \n",
      "\n",
      "Confusion Matrix :- \n",
      "[[72  0]\n",
      " [ 1 47]]\n",
      "\n",
      "Classification Report :- \n",
      "               precision    recall  f1-score   support\n",
      "\n",
      "           0       0.99      1.00      0.99        72\n",
      "           1       1.00      0.98      0.99        48\n",
      "\n",
      "    accuracy                           0.99       120\n",
      "   macro avg       0.99      0.99      0.99       120\n",
      "weighted avg       0.99      0.99      0.99       120\n",
      "\n"
     ]
    }
   ],
   "source": [
    "from xgboost import XGBClassifier\n",
    "\n",
    "xgb = XGBClassifier(objective = 'binary:logistic', learning_rate = 0.5, max_depth = 5, n_estimators = 150)\n",
    "xgb.fit(X_train, y_train)\n",
    "\n",
    "# accuracy score, confusion matrix and classification report of xgboost\n",
    "\n",
    "xgb_acc = accuracy_score(y_test, xgb.predict(X_test))\n",
    "\n",
    "print(f\"Training Accuracy of XgBoost is {accuracy_score(y_train, xgb.predict(X_train))}\")\n",
    "print(f\"Test Accuracy of XgBoost is {xgb_acc} \\n\")\n",
    "\n",
    "print(f\"Confusion Matrix :- \\n{confusion_matrix(y_test, xgb.predict(X_test))}\\n\")\n",
    "print(f\"Classification Report :- \\n {classification_report(y_test, xgb.predict(X_test))}\")"
   ]
  },
  {
   "cell_type": "code",
   "execution_count": 29,
   "id": "5f81ab8f",
   "metadata": {
    "ExecuteTime": {
     "end_time": "2024-01-27T20:08:09.298252Z",
     "start_time": "2024-01-27T20:08:09.086605Z"
    }
   },
   "outputs": [
    {
     "name": "stdout",
     "output_type": "stream",
     "text": [
      "serum_creatinine: 0.4034171402454376\n",
      "specific_gravity: 0.29730406403541565\n",
      "albumin: 0.16694939136505127\n",
      "diabetes_mellitus: 0.042479366064071655\n",
      "haemoglobin: 0.0335816852748394\n",
      "hypertension: 0.023990852758288383\n",
      "packed_cell_volume: 0.013562684878706932\n",
      "blood_glucose_random: 0.009373812936246395\n",
      "white_blood_cell_count: 0.00440226262435317\n",
      "blood_urea: 0.003325411817058921\n",
      "sodium: 0.0005031119217164814\n",
      "potassium: 0.0004970267182216048\n",
      "red_blood_cell_count: 0.0004237178363837302\n",
      "blood_pressure: 0.0001118528307415545\n",
      "age: 7.7556622272823e-05\n",
      "bacteria: 0.0\n",
      "pus_cell_clumps: 0.0\n",
      "pus_cell: 0.0\n",
      "red_blood_cells: 0.0\n",
      "sugar: 0.0\n",
      "peda_edema: 0.0\n",
      "coronary_artery_disease: 0.0\n",
      "appetite: 0.0\n",
      "aanemia: 0.0\n"
     ]
    },
    {
     "data": {
      "image/png": "[encoded data removed]",
      "text/plain": [
       "<Figure size 1000x600 with 1 Axes>"
      ]
     },
     "metadata": {},
     "output_type": "display_data"
    }
   ],
   "source": [
    "feature_importances = xgb.feature_importances_\n",
    "#print(feature_importances)\n",
    "sorted_indices = np.argsort(feature_importances)[::-1]\n",
    "\n",
    "# Arrange feature importances and names in the sorted order\n",
    "sorted_importances = feature_importances[sorted_indices]\n",
    "sorted_names = np.array(df.columns)[sorted_indices]\n",
    "for name, importance in zip(sorted_names, sorted_importances):\n",
    "    print(f\"{name}: {importance}\")\n",
    "plt.figure(figsize=(10, 6))\n",
    "plt.bar(range(len(sorted_importances)), sorted_importances, align=\"center\")\n",
    "plt.xticks(range(len(sorted_importances)), sorted_names, rotation=45)\n",
    "plt.xlabel(\"Features\")\n",
    "plt.ylabel(\"Importance Score\")\n",
    "plt.title(\"Feature Importance\")\n",
    "plt.tight_layout()\n",
    "plt.show()"
   ]
  },
  {
   "cell_type": "code",
   "execution_count": 30,
   "id": "67e0c666",
   "metadata": {
    "ExecuteTime": {
     "end_time": "2024-01-27T20:08:10.281283Z",
     "start_time": "2024-01-27T20:08:10.269350Z"
    }
   },
   "outputs": [],
   "source": [
    "col = ['serum_creatinine', 'specific_gravity', 'albumin', 'diabetes_mellitus', 'haemoglobin', 'hypertension', 'blood_pressure']"
   ]
  },
  {
   "cell_type": "code",
   "execution_count": 31,
   "id": "0c6bc1b9",
   "metadata": {
    "ExecuteTime": {
     "end_time": "2024-01-27T20:08:11.302241Z",
     "start_time": "2024-01-27T20:08:11.285781Z"
    }
   },
   "outputs": [],
   "source": [
    "df_drop=df[col].copy()"
   ]
  },
  {
   "cell_type": "code",
   "execution_count": 32,
   "id": "9a2ed14b",
   "metadata": {
    "ExecuteTime": {
     "end_time": "2024-01-27T20:08:12.046129Z",
     "start_time": "2024-01-27T20:08:12.036299Z"
    }
   },
   "outputs": [
    {
     "data": {
      "text/html": [
       "<div>\n",
       "<style scoped>\n",
       "    .dataframe tbody tr th:only-of-type {\n",
       "        vertical-align: middle;\n",
       "    }\n",
       "\n",
       "    .dataframe tbody tr th {\n",
       "        vertical-align: top;\n",
       "    }\n",
       "\n",
       "    .dataframe thead th {\n",
       "        text-align: right;\n",
       "    }\n",
       "</style>\n",
       "<table border=\"1\" class=\"dataframe\">\n",
       "  <thead>\n",
       "    <tr style=\"text-align: right;\">\n",
       "      <th></th>\n",
       "      <th>serum_creatinine</th>\n",
       "      <th>specific_gravity</th>\n",
       "      <th>albumin</th>\n",
       "      <th>diabetes_mellitus</th>\n",
       "      <th>haemoglobin</th>\n",
       "      <th>hypertension</th>\n",
       "      <th>blood_pressure</th>\n",
       "    </tr>\n",
       "  </thead>\n",
       "  <tbody>\n",
       "    <tr>\n",
       "      <th>0</th>\n",
       "      <td>1.2</td>\n",
       "      <td>1.020</td>\n",
       "      <td>1.0</td>\n",
       "      <td>1</td>\n",
       "      <td>15.4</td>\n",
       "      <td>1</td>\n",
       "      <td>80.0</td>\n",
       "    </tr>\n",
       "    <tr>\n",
       "      <th>1</th>\n",
       "      <td>0.8</td>\n",
       "      <td>1.020</td>\n",
       "      <td>4.0</td>\n",
       "      <td>0</td>\n",
       "      <td>11.3</td>\n",
       "      <td>0</td>\n",
       "      <td>50.0</td>\n",
       "    </tr>\n",
       "    <tr>\n",
       "      <th>2</th>\n",
       "      <td>1.8</td>\n",
       "      <td>1.010</td>\n",
       "      <td>2.0</td>\n",
       "      <td>1</td>\n",
       "      <td>9.6</td>\n",
       "      <td>0</td>\n",
       "      <td>80.0</td>\n",
       "    </tr>\n",
       "    <tr>\n",
       "      <th>3</th>\n",
       "      <td>3.8</td>\n",
       "      <td>1.005</td>\n",
       "      <td>4.0</td>\n",
       "      <td>0</td>\n",
       "      <td>11.2</td>\n",
       "      <td>1</td>\n",
       "      <td>70.0</td>\n",
       "    </tr>\n",
       "    <tr>\n",
       "      <th>4</th>\n",
       "      <td>1.4</td>\n",
       "      <td>1.010</td>\n",
       "      <td>2.0</td>\n",
       "      <td>0</td>\n",
       "      <td>11.6</td>\n",
       "      <td>0</td>\n",
       "      <td>80.0</td>\n",
       "    </tr>\n",
       "  </tbody>\n",
       "</table>\n",
       "</div>"
      ],
      "text/plain": [
       "   serum_creatinine  specific_gravity  albumin  diabetes_mellitus  \\\n",
       "0               1.2             1.020      1.0                  1   \n",
       "1               0.8             1.020      4.0                  0   \n",
       "2               1.8             1.010      2.0                  1   \n",
       "3               3.8             1.005      4.0                  0   \n",
       "4               1.4             1.010      2.0                  0   \n",
       "\n",
       "   haemoglobin  hypertension  blood_pressure  \n",
       "0         15.4             1            80.0  \n",
       "1         11.3             0            50.0  \n",
       "2          9.6             0            80.0  \n",
       "3         11.2             1            70.0  \n",
       "4         11.6             0            80.0  "
      ]
     },
     "execution_count": 32,
     "metadata": {},
     "output_type": "execute_result"
    }
   ],
   "source": [
    "df_drop.head()"
   ]
  },
  {
   "cell_type": "code",
   "execution_count": 33,
   "id": "19ff5715",
   "metadata": {
    "ExecuteTime": {
     "end_time": "2024-01-27T20:08:13.272877Z",
     "start_time": "2024-01-27T20:08:13.254127Z"
    }
   },
   "outputs": [],
   "source": [
    "from sklearn.metrics import accuracy_score, confusion_matrix, classification_report\n",
    "from sklearn.model_selection import train_test_split\n",
    "\n",
    "X_train, X_test, y_train, y_test = train_test_split(df_drop, y, test_size = 0.30, random_state = 0)"
   ]
  },
  {
   "cell_type": "code",
   "execution_count": 34,
   "id": "8fb6cf6f",
   "metadata": {
    "ExecuteTime": {
     "end_time": "2024-01-27T20:08:13.967374Z",
     "start_time": "2024-01-27T20:08:13.881209Z"
    }
   },
   "outputs": [
    {
     "name": "stdout",
     "output_type": "stream",
     "text": [
      "Training Accuracy of XgBoost is 1.0\n",
      "Test Accuracy of XgBoost is 0.9833333333333333 \n",
      "\n",
      "Confusion Matrix :- \n",
      "[[72  0]\n",
      " [ 2 46]]\n",
      "\n",
      "Classification Report :- \n",
      "               precision    recall  f1-score   support\n",
      "\n",
      "           0       0.97      1.00      0.99        72\n",
      "           1       1.00      0.96      0.98        48\n",
      "\n",
      "    accuracy                           0.98       120\n",
      "   macro avg       0.99      0.98      0.98       120\n",
      "weighted avg       0.98      0.98      0.98       120\n",
      "\n"
     ]
    }
   ],
   "source": [
    "from xgboost import XGBClassifier\n",
    "\n",
    "xgb = XGBClassifier(objective = 'binary:logistic', learning_rate = 0.5, max_depth = 5, n_estimators = 150)\n",
    "xgb.fit(X_train, y_train)\n",
    "\n",
    "# accuracy score, confusion matrix and classification report of xgboost\n",
    "\n",
    "xgb_acc = accuracy_score(y_test, xgb.predict(X_test))\n",
    "\n",
    "print(f\"Training Accuracy of XgBoost is {accuracy_score(y_train, xgb.predict(X_train))}\")\n",
    "print(f\"Test Accuracy of XgBoost is {xgb_acc} \\n\")\n",
    "\n",
    "print(f\"Confusion Matrix :- \\n{confusion_matrix(y_test, xgb.predict(X_test))}\\n\")\n",
    "print(f\"Classification Report :- \\n {classification_report(y_test, xgb.predict(X_test))}\")"
   ]
  },
  {
   "cell_type": "code",
   "execution_count": 35,
   "id": "d2a0510c",
   "metadata": {
    "ExecuteTime": {
     "end_time": "2024-01-27T20:08:14.803952Z",
     "start_time": "2024-01-27T20:08:14.783868Z"
    }
   },
   "outputs": [
    {
     "name": "stdout",
     "output_type": "stream",
     "text": [
      "<class 'pandas.core.frame.DataFrame'>\n",
      "Index: 120 entries, 132 to 343\n",
      "Data columns (total 7 columns):\n",
      " #   Column             Non-Null Count  Dtype  \n",
      "---  ------             --------------  -----  \n",
      " 0   serum_creatinine   120 non-null    float64\n",
      " 1   specific_gravity   120 non-null    float64\n",
      " 2   albumin            120 non-null    float64\n",
      " 3   diabetes_mellitus  120 non-null    int64  \n",
      " 4   haemoglobin        120 non-null    float64\n",
      " 5   hypertension       120 non-null    int64  \n",
      " 6   blood_pressure     120 non-null    float64\n",
      "dtypes: float64(5), int64(2)\n",
      "memory usage: 7.5 KB\n"
     ]
    }
   ],
   "source": [
    "X_test.info()"
   ]
  },
  {
   "cell_type": "code",
   "execution_count": 36,
   "id": "a924169c",
   "metadata": {
    "ExecuteTime": {
     "end_time": "2024-01-27T20:08:16.160121Z",
     "start_time": "2024-01-27T20:08:16.142081Z"
    }
   },
   "outputs": [
    {
     "data": {
      "text/plain": [
       "',serum_creatinine,specific_gravity,albumin,diabetes_mellitus,haemoglobin,hypertension,blood_pressure\\n132,13.8,1.02,0.0,0,8.6,1,90.0\\n309,1.2,1.02,0.0,0,17.2,0,60.0\\n341,0.9,1.025,0.0,0,13.4,0,70.0\\n196,11.8,1.01,3.0,1,8.1,1,100.0\\n246,15.2,1.015,3.0,0,8.6,1,110.0\\n60,3.2,1.02,1.0,0,12.5,1,90.0\\n155,1.8,1.02,3.0,0,11.1,0,70.0\\n261,1.2,1.02,0.0,0,17.0,0,80.0\\n141,6.0,1.01,1.0,0,6.1,1,70.0\\n214,1.0,1.015,0.0,1,13.7,0,80.0\\n37,3.4,1.025,1.0,1,9.7,1,80.0\\n134,16.9,1.01,0.0,1,10.8,0,100.0\\n113,0.7,1.015,0.0,1,7.9,0,90.0\\n348,0.5,1.02,0.0,0,13.6,0,80.0\\n12,2.1,1.015,3.0,1,9.7,1,70.0\\n59,6.4,1.015,2.0,1,6.6,1,100.0\\n293,1.2,1.02,0.0,0,14.9,0,80.0\\n140,1.2,1.01,0.0,0,12.4,0,70.0\\n206,3.9,1.01,1.0,0,13.8,1,70.0\\n199,1.5,1.015,0.0,0,8.8,1,80.0\\n176,1.7,1.01,4.0,0,8.3,0,90.0\\n268,1.0,1.015,0.0,0,16.3,0,80.0\\n124,2.5,1.015,0.0,0,9.1,1,100.0\\n344,0.7,1.02,0.0,0,14.4,0,60.0\\n175,2.2,1.01,0.0,0,15.8,1,50.0\\n313,0.9,1.02,0.0,0,17.3,0,80.0\\n78,3.2,1.02,0.0,0,10.1,1,80.0\\n15,9.6,1.015,3.0,0,7.6,1,80.0\\n286,0.8,1.02,0.0,0,14.7,0,70.0\\n102,2.1,1.01,0.0,0,13.9,0,60.0\\n170,1.7,1.015,2.0,1,12.5,1,70.0\\n303,1.1,1.02,0.0,0,17.0,0,70.0\\n334,4.6,1.025,0.0,0,15.4,0,80.0\\n225,2.7,1.01,3.0,1,11.5,1,90.0\\n65,1.1,1.01,1.0,0,15.0,0,90.0\\n76,8.5,1.005,4.0,1,10.3,0,80.0\\n90,3.2,1.01,2.0,0,13.0,1,100.0\\n173,7.3,1.015,1.0,0,13.1,0,70.0\\n179,2.3,1.01,2.0,0,11.9,0,90.0\\n399,1.1,1.025,0.0,0,15.8,0,80.0\\n100,0.9,1.015,4.0,0,10.1,0,70.0\\n322,0.5,1.02,2.0,0,16.0,0,60.0\\n6,24.0,1.01,0.0,0,12.4,0,70.0\\n1,0.8,1.02,4.0,0,11.3,0,50.0\\n297,1.0,1.025,0.0,0,15.8,0,60.0\\n54,3.4,1.01,2.0,0,13.0,1,80.0\\n374,1.2,1.025,0.0,0,16.3,0,80.0\\n255,1.2,1.025,0.0,0,13.6,0,80.0\\n158,1.5,1.02,3.0,1,10.9,1,60.0\\n233,1.6,1.015,2.0,0,9.3,0,100.0\\n247,1.2,1.025,1.0,0,8.3,0,90.0\\n144,2.3,1.01,2.0,0,11.1,0,90.0\\n294,0.7,1.02,0.0,0,14.3,0,60.0\\n171,2.6,1.02,3.0,0,8.7,1,70.0\\n280,0.9,1.025,1.0,0,13.3,0,80.0\\n318,0.7,1.025,0.0,0,17.4,0,70.0\\n52,2.2,1.015,0.0,0,10.9,0,90.0\\n10,4.0,1.01,2.0,1,9.4,1,60.0\\n26,2.4,1.015,0.0,1,11.6,1,80.0\\n45,5.9,1.02,3.0,1,9.3,1,80.0\\n74,6.7,1.015,2.0,0,9.1,1,90.0\\n272,1.2,1.025,0.0,0,14.8,0,80.0\\n4,1.4,1.01,2.0,0,11.6,0,80.0\\n354,0.4,1.025,0.0,0,14.6,0,60.0\\n191,6.0,1.01,3.0,1,9.1,1,70.0\\n371,0.5,1.025,0.0,0,17.6,0,60.0\\n145,13.0,1.015,5.0,1,8.0,1,90.0\\n5,1.1,1.015,3.0,1,12.2,1,90.0\\n154,16.4,1.005,4.0,1,8.4,1,90.0\\n310,0.7,1.02,0.0,0,13.2,0,60.0\\n7,1.1,1.015,2.0,1,12.4,0,90.0\\n260,1.0,1.02,0.0,0,14.1,0,80.0\\n68,3.3,1.01,2.0,0,10.9,0,70.0\\n20,3.9,1.015,2.0,1,7.7,1,80.0\\n107,2.8,1.015,1.0,1,11.2,1,100.0\\n14,4.1,1.01,3.0,1,5.6,1,80.0\\n363,0.5,1.025,0.0,0,17.8,0,80.0\\n304,0.6,1.025,0.0,0,13.1,0,80.0\\n361,0.7,1.02,0.0,0,13.7,0,80.0\\n329,0.9,1.025,0.0,0,14.1,0,60.0\\n336,0.5,1.02,0.0,0,15.2,0,60.0\\n64,0.6,1.01,0.0,0,9.8,0,80.0\\n55,4.3,1.005,3.0,0,9.5,0,80.0\\n106,6.1,1.02,1.0,1,6.0,1,90.0\\n300,0.7,1.02,0.0,0,15.0,0,60.0\\n229,12.0,1.01,3.0,1,9.6,0,50.0\\n122,12.2,1.01,0.0,0,6.0,1,70.0\\n373,1.0,1.025,0.0,0,13.7,0,70.0\\n395,0.5,1.02,0.0,0,15.7,0,80.0\\n325,1.2,1.02,0.0,0,14.0,0,80.0\\n380,1.1,1.02,0.0,0,15.3,0,60.0\\n253,1.2,1.025,0.0,0,15.4,0,80.0\\n56,9.7,1.015,3.0,1,10.2,1,70.0\\n8,1.9,1.015,3.0,1,10.8,1,100.0\\n190,1.0,1.01,4.0,0,9.9,0,60.0\\n146,1.0,1.01,1.0,1,6.1,0,100.0\\n135,1.3,1.015,0.0,1,13.2,0,80.0\\n390,0.8,1.025,0.0,0,15.0,0,80.0\\n264,0.7,1.02,0.0,0,14.4,0,80.0\\n364,0.7,1.025,0.0,0,14.8,0,80.0\\n250,1.2,1.025,0.0,0,15.0,0,80.0\\n63,6.1,1.015,1.0,0,7.5,0,70.0\\n312,1.0,1.02,0.0,0,15.3,0,70.0\\n159,1.3,1.01,1.0,1,10.4,0,80.0\\n283,0.5,1.02,0.0,0,16.4,0,70.0\\n340,1.1,1.025,0.0,0,14.3,0,70.0\\n81,2.4,1.01,0.0,1,8.3,1,90.0\\n349,1.1,1.025,0.0,0,14.5,0,70.0\\n153,14.2,1.01,2.0,1,8.3,1,90.0\\n295,0.9,1.025,0.0,0,15.0,0,70.0\\n96,2.7,1.01,1.0,1,11.2,0,80.0\\n89,1.4,1.02,0.0,0,11.1,0,70.0\\n296,0.6,1.02,0.0,0,16.8,0,70.0\\n21,76.0,1.02,4.0,1,10.9,1,90.0\\n365,1.0,1.02,0.0,0,16.7,0,80.0\\n216,0.8,1.01,0.0,0,12.8,0,70.0\\n259,1.2,1.02,0.0,0,16.1,0,80.0\\n49,3.0,1.01,2.0,1,9.7,1,70.0\\n238,13.4,1.015,0.0,1,9.4,1,100.0\\n343,0.8,1.025,0.0,0,16.2,0,60.0\\n'"
      ]
     },
     "execution_count": 36,
     "metadata": {},
     "output_type": "execute_result"
    }
   ],
   "source": [
    "X_test.to_csv()"
   ]
  },
  {
   "cell_type": "code",
   "execution_count": 37,
   "id": "49e70610",
   "metadata": {
    "ExecuteTime": {
     "end_time": "2024-01-27T20:08:17.317235Z",
     "start_time": "2024-01-27T20:08:17.311042Z"
    }
   },
   "outputs": [
    {
     "data": {
      "text/plain": [
       "array([0, 1, 1, 0, 0, 0, 0, 1, 0, 0, 0, 0, 0, 1, 0, 0, 1, 0, 0, 0, 0, 0,\n",
       "       0, 1, 0, 1, 0, 0, 1, 0, 0, 1, 0, 0, 0, 0, 0, 0, 0, 1, 0, 1, 0, 0,\n",
       "       1, 0, 1, 1, 0, 0, 0, 0, 1, 0, 1, 1, 0, 0, 0, 0, 0, 1, 0, 1, 0, 1,\n",
       "       0, 0, 0, 1, 0, 1, 0, 0, 0, 0, 1, 1, 1, 1, 1, 0, 0, 0, 1, 0, 0, 1,\n",
       "       1, 1, 1, 1, 0, 0, 0, 0, 0, 1, 1, 1, 1, 0, 1, 0, 1, 1, 0, 1, 0, 1,\n",
       "       0, 0, 1, 0, 1, 0, 1, 0, 0, 1])"
      ]
     },
     "execution_count": 37,
     "metadata": {},
     "output_type": "execute_result"
    }
   ],
   "source": [
    "xgb.predict(X_test)"
   ]
  },
  {
   "cell_type": "code",
   "execution_count": 38,
   "id": "3b29994d",
   "metadata": {
    "ExecuteTime": {
     "end_time": "2024-01-27T20:08:18.261638Z",
     "start_time": "2024-01-27T20:08:18.250326Z"
    }
   },
   "outputs": [],
   "source": [
    "test={}"
   ]
  },
  {
   "cell_type": "code",
   "execution_count": 139,
   "id": "58c8c911",
   "metadata": {
    "ExecuteTime": {
     "end_time": "2024-01-27T20:08:18.708878Z",
     "start_time": "2024-01-27T20:08:18.686066Z"
    }
   },
   "outputs": [],
   "source": [
    "import joblib\n",
    "joblib.dump(xgb, 'kidney_disease_model.joblib')\n",
    "loaded_model = joblib.load('kidney_disease_model.joblib')"
   ]
  },
  {
   "cell_type": "code",
   "execution_count": 140,
   "id": "b8814923",
   "metadata": {
    "ExecuteTime": {
     "end_time": "2024-01-27T20:08:18.863752Z",
     "start_time": "2024-01-27T20:08:18.857102Z"
    }
   },
   "outputs": [],
   "source": [
    "import pickle\n"
   ]
  },
  {
   "cell_type": "code",
   "execution_count": 141,
   "id": "11620baa",
   "metadata": {
    "ExecuteTime": {
     "end_time": "2024-01-27T20:08:19.071617Z",
     "start_time": "2024-01-27T20:08:19.061195Z"
    }
   },
   "outputs": [],
   "source": [
    "with open('kidney_disease_model.pkl', 'wb') as file:\n",
    "    pickle.dump(xgb, file)"
   ]
  },
  {
   "cell_type": "code",
   "execution_count": 142,
   "id": "26fbb152",
   "metadata": {
    "ExecuteTime": {
     "end_time": "2024-01-27T20:08:19.777055Z",
     "start_time": "2024-01-27T20:08:19.745255Z"
    }
   },
   "outputs": [],
   "source": [
    "with open('kidney_disease_model.pkl', 'rb') as file:\n",
    "    loaded_model = pickle.load(file)\n"
   ]
  },
  {
   "cell_type": "code",
   "execution_count": 144,
   "id": "3b000398",
   "metadata": {
    "ExecuteTime": {
     "end_time": "2024-01-27T20:08:46.292383Z",
     "start_time": "2024-01-27T20:08:46.277549Z"
    }
   },
   "outputs": [
    {
     "name": "stdout",
     "output_type": "stream",
     "text": [
      "the person is not having kidney disease\n"
     ]
    }
   ],
   "source": [
    "input_data=(16.9,1.01,0.0,1,10.8,0,100.0)\n",
    "input_data=np.asarray(input_data)\n",
    "input_data_reshaped=input_data.reshape(1,-1)\n",
    "prediction=loaded_model.predict(input_data_reshaped)\n",
    "#print(prediction)\n",
    "if(prediction==0):\n",
    "    print('the person is not having kidney disease')\n",
    "else:\n",
    "    print('the person is having Kideny Disease')"
   ]
  },
  {
   "cell_type": "code",
   "execution_count": null,
   "id": "d2fba6fd",
   "metadata": {},
   "outputs": [],
   "source": []
  }
 ],
 "metadata": {
  "kernelspec": {
   "display_name": "Python 3 (ipykernel)",
   "language": "python",
   "name": "python3"
  },
  "language_info": {
   "codemirror_mode": {
    "name": "ipython",
    "version": 3
   },
   "file_extension": ".py",
   "mimetype": "text/x-python",
   "name": "python",
   "nbconvert_exporter": "python",
   "pygments_lexer": "ipython3",
   "version": "3.11.5"
  }
 },
 "nbformat": 4,
 "nbformat_minor": 5
}
